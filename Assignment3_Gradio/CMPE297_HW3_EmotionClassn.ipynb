{
  "nbformat": 4,
  "nbformat_minor": 0,
  "metadata": {
    "colab": {
      "name": "CMPE297_HW3_EmotionClassn",
      "provenance": [],
      "collapsed_sections": [
        "b2Wwti9DYZ05",
        "OnRb9xWSdvWt",
        "ow5WhdR9-vqm",
        "JKBBdhBa-m3V",
        "RzpqsYFv_5-T",
        "UQqqqPakhfzm",
        "BLPvRne5lymD"
      ]
    },
    "kernelspec": {
      "name": "python3",
      "display_name": "Python 3"
    },
    "accelerator": "GPU",
    "widgets": {
      "application/vnd.jupyter.widget-state+json": {
        "e61c535ab76b49adbd6d1d2f59f31394": {
          "model_module": "@jupyter-widgets/controls",
          "model_name": "HBoxModel",
          "model_module_version": "1.5.0",
          "state": {
            "_view_name": "HBoxView",
            "_dom_classes": [],
            "_model_name": "HBoxModel",
            "_view_module": "@jupyter-widgets/controls",
            "_model_module_version": "1.5.0",
            "_view_count": null,
            "_view_module_version": "1.5.0",
            "box_style": "",
            "layout": "IPY_MODEL_f2cec0c1bf944a399d8287455d70c375",
            "_model_module": "@jupyter-widgets/controls",
            "children": [
              "IPY_MODEL_63a71571f2dc45be9e21ad5d1a06c8a7",
              "IPY_MODEL_a0b79407e81b42f19b2e8e26b0f56500",
              "IPY_MODEL_507e65a1f7b8474aa6ad98fe1fa084c1"
            ]
          }
        },
        "f2cec0c1bf944a399d8287455d70c375": {
          "model_module": "@jupyter-widgets/base",
          "model_name": "LayoutModel",
          "model_module_version": "1.2.0",
          "state": {
            "_view_name": "LayoutView",
            "grid_template_rows": null,
            "right": null,
            "justify_content": null,
            "_view_module": "@jupyter-widgets/base",
            "overflow": null,
            "_model_module_version": "1.2.0",
            "_view_count": null,
            "flex_flow": null,
            "width": null,
            "min_width": null,
            "border": null,
            "align_items": null,
            "bottom": null,
            "_model_module": "@jupyter-widgets/base",
            "top": null,
            "grid_column": null,
            "overflow_y": null,
            "overflow_x": null,
            "grid_auto_flow": null,
            "grid_area": null,
            "grid_template_columns": null,
            "flex": null,
            "_model_name": "LayoutModel",
            "justify_items": null,
            "grid_row": null,
            "max_height": null,
            "align_content": null,
            "visibility": null,
            "align_self": null,
            "height": null,
            "min_height": null,
            "padding": null,
            "grid_auto_rows": null,
            "grid_gap": null,
            "max_width": null,
            "order": null,
            "_view_module_version": "1.2.0",
            "grid_template_areas": null,
            "object_position": null,
            "object_fit": null,
            "grid_auto_columns": null,
            "margin": null,
            "display": null,
            "left": null
          }
        },
        "63a71571f2dc45be9e21ad5d1a06c8a7": {
          "model_module": "@jupyter-widgets/controls",
          "model_name": "HTMLModel",
          "model_module_version": "1.5.0",
          "state": {
            "_view_name": "HTMLView",
            "style": "IPY_MODEL_b2ef76409b7a448f81028a4230f30493",
            "_dom_classes": [],
            "description": "",
            "_model_name": "HTMLModel",
            "placeholder": "​",
            "_view_module": "@jupyter-widgets/controls",
            "_model_module_version": "1.5.0",
            "value": "",
            "_view_count": null,
            "_view_module_version": "1.5.0",
            "description_tooltip": null,
            "_model_module": "@jupyter-widgets/controls",
            "layout": "IPY_MODEL_70be3f1f32b144268130010564c998dd"
          }
        },
        "a0b79407e81b42f19b2e8e26b0f56500": {
          "model_module": "@jupyter-widgets/controls",
          "model_name": "FloatProgressModel",
          "model_module_version": "1.5.0",
          "state": {
            "_view_name": "ProgressView",
            "style": "IPY_MODEL_2d6f71a3b36047448a4d5bab253d0e74",
            "_dom_classes": [],
            "description": "",
            "_model_name": "FloatProgressModel",
            "bar_style": "success",
            "max": 159571,
            "_view_module": "@jupyter-widgets/controls",
            "_model_module_version": "1.5.0",
            "value": 159571,
            "_view_count": null,
            "_view_module_version": "1.5.0",
            "orientation": "horizontal",
            "min": 0,
            "description_tooltip": null,
            "_model_module": "@jupyter-widgets/controls",
            "layout": "IPY_MODEL_6f54942c244447d797c434b7a7917b83"
          }
        },
        "507e65a1f7b8474aa6ad98fe1fa084c1": {
          "model_module": "@jupyter-widgets/controls",
          "model_name": "HTMLModel",
          "model_module_version": "1.5.0",
          "state": {
            "_view_name": "HTMLView",
            "style": "IPY_MODEL_145c43e9526d4f48be7a6a0404ed293e",
            "_dom_classes": [],
            "description": "",
            "_model_name": "HTMLModel",
            "placeholder": "​",
            "_view_module": "@jupyter-widgets/controls",
            "_model_module_version": "1.5.0",
            "value": " 416809/? [13:37&lt;00:00, 511.70it/s]",
            "_view_count": null,
            "_view_module_version": "1.5.0",
            "description_tooltip": null,
            "_model_module": "@jupyter-widgets/controls",
            "layout": "IPY_MODEL_25e64124584a4048b25f6ee6c174ba02"
          }
        },
        "b2ef76409b7a448f81028a4230f30493": {
          "model_module": "@jupyter-widgets/controls",
          "model_name": "DescriptionStyleModel",
          "model_module_version": "1.5.0",
          "state": {
            "_view_name": "StyleView",
            "_model_name": "DescriptionStyleModel",
            "description_width": "",
            "_view_module": "@jupyter-widgets/base",
            "_model_module_version": "1.5.0",
            "_view_count": null,
            "_view_module_version": "1.2.0",
            "_model_module": "@jupyter-widgets/controls"
          }
        },
        "70be3f1f32b144268130010564c998dd": {
          "model_module": "@jupyter-widgets/base",
          "model_name": "LayoutModel",
          "model_module_version": "1.2.0",
          "state": {
            "_view_name": "LayoutView",
            "grid_template_rows": null,
            "right": null,
            "justify_content": null,
            "_view_module": "@jupyter-widgets/base",
            "overflow": null,
            "_model_module_version": "1.2.0",
            "_view_count": null,
            "flex_flow": null,
            "width": null,
            "min_width": null,
            "border": null,
            "align_items": null,
            "bottom": null,
            "_model_module": "@jupyter-widgets/base",
            "top": null,
            "grid_column": null,
            "overflow_y": null,
            "overflow_x": null,
            "grid_auto_flow": null,
            "grid_area": null,
            "grid_template_columns": null,
            "flex": null,
            "_model_name": "LayoutModel",
            "justify_items": null,
            "grid_row": null,
            "max_height": null,
            "align_content": null,
            "visibility": null,
            "align_self": null,
            "height": null,
            "min_height": null,
            "padding": null,
            "grid_auto_rows": null,
            "grid_gap": null,
            "max_width": null,
            "order": null,
            "_view_module_version": "1.2.0",
            "grid_template_areas": null,
            "object_position": null,
            "object_fit": null,
            "grid_auto_columns": null,
            "margin": null,
            "display": null,
            "left": null
          }
        },
        "2d6f71a3b36047448a4d5bab253d0e74": {
          "model_module": "@jupyter-widgets/controls",
          "model_name": "ProgressStyleModel",
          "model_module_version": "1.5.0",
          "state": {
            "_view_name": "StyleView",
            "_model_name": "ProgressStyleModel",
            "description_width": "",
            "_view_module": "@jupyter-widgets/base",
            "_model_module_version": "1.5.0",
            "_view_count": null,
            "_view_module_version": "1.2.0",
            "bar_color": null,
            "_model_module": "@jupyter-widgets/controls"
          }
        },
        "6f54942c244447d797c434b7a7917b83": {
          "model_module": "@jupyter-widgets/base",
          "model_name": "LayoutModel",
          "model_module_version": "1.2.0",
          "state": {
            "_view_name": "LayoutView",
            "grid_template_rows": null,
            "right": null,
            "justify_content": null,
            "_view_module": "@jupyter-widgets/base",
            "overflow": null,
            "_model_module_version": "1.2.0",
            "_view_count": null,
            "flex_flow": null,
            "width": null,
            "min_width": null,
            "border": null,
            "align_items": null,
            "bottom": null,
            "_model_module": "@jupyter-widgets/base",
            "top": null,
            "grid_column": null,
            "overflow_y": null,
            "overflow_x": null,
            "grid_auto_flow": null,
            "grid_area": null,
            "grid_template_columns": null,
            "flex": null,
            "_model_name": "LayoutModel",
            "justify_items": null,
            "grid_row": null,
            "max_height": null,
            "align_content": null,
            "visibility": null,
            "align_self": null,
            "height": null,
            "min_height": null,
            "padding": null,
            "grid_auto_rows": null,
            "grid_gap": null,
            "max_width": null,
            "order": null,
            "_view_module_version": "1.2.0",
            "grid_template_areas": null,
            "object_position": null,
            "object_fit": null,
            "grid_auto_columns": null,
            "margin": null,
            "display": null,
            "left": null
          }
        },
        "145c43e9526d4f48be7a6a0404ed293e": {
          "model_module": "@jupyter-widgets/controls",
          "model_name": "DescriptionStyleModel",
          "model_module_version": "1.5.0",
          "state": {
            "_view_name": "StyleView",
            "_model_name": "DescriptionStyleModel",
            "description_width": "",
            "_view_module": "@jupyter-widgets/base",
            "_model_module_version": "1.5.0",
            "_view_count": null,
            "_view_module_version": "1.2.0",
            "_model_module": "@jupyter-widgets/controls"
          }
        },
        "25e64124584a4048b25f6ee6c174ba02": {
          "model_module": "@jupyter-widgets/base",
          "model_name": "LayoutModel",
          "model_module_version": "1.2.0",
          "state": {
            "_view_name": "LayoutView",
            "grid_template_rows": null,
            "right": null,
            "justify_content": null,
            "_view_module": "@jupyter-widgets/base",
            "overflow": null,
            "_model_module_version": "1.2.0",
            "_view_count": null,
            "flex_flow": null,
            "width": null,
            "min_width": null,
            "border": null,
            "align_items": null,
            "bottom": null,
            "_model_module": "@jupyter-widgets/base",
            "top": null,
            "grid_column": null,
            "overflow_y": null,
            "overflow_x": null,
            "grid_auto_flow": null,
            "grid_area": null,
            "grid_template_columns": null,
            "flex": null,
            "_model_name": "LayoutModel",
            "justify_items": null,
            "grid_row": null,
            "max_height": null,
            "align_content": null,
            "visibility": null,
            "align_self": null,
            "height": null,
            "min_height": null,
            "padding": null,
            "grid_auto_rows": null,
            "grid_gap": null,
            "max_width": null,
            "order": null,
            "_view_module_version": "1.2.0",
            "grid_template_areas": null,
            "object_position": null,
            "object_fit": null,
            "grid_auto_columns": null,
            "margin": null,
            "display": null,
            "left": null
          }
        }
      }
    }
  },
  "cells": [
    {
      "cell_type": "markdown",
      "metadata": {
        "id": "Iyp18lEI_CBb"
      },
      "source": [
        "# **Text Emotion Classification using LSTM**\n",
        "\n",
        "## **Main References:**\n",
        "* https://notebooks.quantumstat.com/#/\n",
        "* https://colab.research.google.com/github/mrm8488/shared_colab_notebooks/blob/master/TF_emotion_detection.ipynb\n",
        "* https://en.wikipedia.org/wiki/Emotion_classification\n",
        "* https://en.wikipedia.org/wiki/Long_short-term_memory\n",
        "\n",
        "**Emotion classification:** It is the means by which one may distinguish or contrast one emotion from another, is a contested issue in emotion research and in affective science.\n",
        "\n",
        "**Long short-term memory (LSTM):** \n",
        "* It is an artificial recurrent neural network (RNN) architecture used in the field of deep learning. \n",
        "* Unlike standard feedforward neural networks, LSTM has feedback connections. \n",
        "* It can process not only single data points (such as images), but also entire sequences of data (such as speech or video). \n",
        "* For example, LSTM is applicable to tasks such as unsegmented, connected handwriting recognition speech recognition and anomaly detection in network traffic or IDSs (intrusion detection systems).\n",
        "\n",
        "**Structure:**\n",
        "* A common LSTM unit is composed of a cell, an input gate, an output gate and a forget gate. \n",
        "* The cell remembers values over arbitrary time intervals and the three gates regulate the flow of information into and out of the cell.\n",
        "\n",
        "\n",
        "LSTM networks are well-suited to classifying, processing and making predictions based on time series data, since there can be lags of unknown duration between important events in a time series. LSTMs were developed to deal with the vanishing gradient problem that can be encountered when training traditional RNNs. Relative insensitivity to gap length is an advantage of LSTM over RNNs, hidden Markov models and other sequence learning methods in numerous applications.\n",
        "\n"
      ]
    },
    {
      "cell_type": "code",
      "metadata": {
        "id": "sbi_vGGzO4PY",
        "colab": {
          "base_uri": "https://localhost:8080/"
        },
        "outputId": "17525b30-c2e5-4aea-a51f-9e088cdd3484"
      },
      "source": [
        "!nvidia-smi"
      ],
      "execution_count": 1,
      "outputs": [
        {
          "output_type": "stream",
          "name": "stdout",
          "text": [
            "Sat Oct 30 04:03:36 2021       \n",
            "+-----------------------------------------------------------------------------+\n",
            "| NVIDIA-SMI 495.29.05    Driver Version: 460.32.03    CUDA Version: 11.2     |\n",
            "|-------------------------------+----------------------+----------------------+\n",
            "| GPU  Name        Persistence-M| Bus-Id        Disp.A | Volatile Uncorr. ECC |\n",
            "| Fan  Temp  Perf  Pwr:Usage/Cap|         Memory-Usage | GPU-Util  Compute M. |\n",
            "|                               |                      |               MIG M. |\n",
            "|===============================+======================+======================|\n",
            "|   0  Tesla P100-PCIE...  Off  | 00000000:00:04.0 Off |                    0 |\n",
            "| N/A   36C    P0    26W / 250W |      0MiB / 16280MiB |      0%      Default |\n",
            "|                               |                      |                  N/A |\n",
            "+-------------------------------+----------------------+----------------------+\n",
            "                                                                               \n",
            "+-----------------------------------------------------------------------------+\n",
            "| Processes:                                                                  |\n",
            "|  GPU   GI   CI        PID   Type   Process name                  GPU Memory |\n",
            "|        ID   ID                                                   Usage      |\n",
            "|=============================================================================|\n",
            "|  No running processes found                                                 |\n",
            "+-----------------------------------------------------------------------------+\n"
          ]
        }
      ]
    },
    {
      "cell_type": "markdown",
      "metadata": {
        "id": "jJNlIn2RXxuf"
      },
      "source": [
        "## **Installing TensorBoard**"
      ]
    },
    {
      "cell_type": "code",
      "metadata": {
        "colab": {
          "base_uri": "https://localhost:8080/"
        },
        "id": "mXks14v1XymA",
        "outputId": "cfe64c42-8b25-4297-b4f2-a4eaf2678d92"
      },
      "source": [
        "!pip install tensorboard"
      ],
      "execution_count": 2,
      "outputs": [
        {
          "output_type": "stream",
          "name": "stdout",
          "text": [
            "Requirement already satisfied: tensorboard in /usr/local/lib/python3.7/dist-packages (2.6.0)\n",
            "Requirement already satisfied: markdown>=2.6.8 in /usr/local/lib/python3.7/dist-packages (from tensorboard) (3.3.4)\n",
            "Requirement already satisfied: wheel>=0.26 in /usr/local/lib/python3.7/dist-packages (from tensorboard) (0.37.0)\n",
            "Requirement already satisfied: absl-py>=0.4 in /usr/local/lib/python3.7/dist-packages (from tensorboard) (0.12.0)\n",
            "Requirement already satisfied: grpcio>=1.24.3 in /usr/local/lib/python3.7/dist-packages (from tensorboard) (1.41.0)\n",
            "Requirement already satisfied: protobuf>=3.6.0 in /usr/local/lib/python3.7/dist-packages (from tensorboard) (3.17.3)\n",
            "Requirement already satisfied: setuptools>=41.0.0 in /usr/local/lib/python3.7/dist-packages (from tensorboard) (57.4.0)\n",
            "Requirement already satisfied: google-auth<2,>=1.6.3 in /usr/local/lib/python3.7/dist-packages (from tensorboard) (1.35.0)\n",
            "Requirement already satisfied: tensorboard-plugin-wit>=1.6.0 in /usr/local/lib/python3.7/dist-packages (from tensorboard) (1.8.0)\n",
            "Requirement already satisfied: requests<3,>=2.21.0 in /usr/local/lib/python3.7/dist-packages (from tensorboard) (2.23.0)\n",
            "Requirement already satisfied: tensorboard-data-server<0.7.0,>=0.6.0 in /usr/local/lib/python3.7/dist-packages (from tensorboard) (0.6.1)\n",
            "Requirement already satisfied: numpy>=1.12.0 in /usr/local/lib/python3.7/dist-packages (from tensorboard) (1.19.5)\n",
            "Requirement already satisfied: google-auth-oauthlib<0.5,>=0.4.1 in /usr/local/lib/python3.7/dist-packages (from tensorboard) (0.4.6)\n",
            "Requirement already satisfied: werkzeug>=0.11.15 in /usr/local/lib/python3.7/dist-packages (from tensorboard) (1.0.1)\n",
            "Requirement already satisfied: six in /usr/local/lib/python3.7/dist-packages (from absl-py>=0.4->tensorboard) (1.15.0)\n",
            "Requirement already satisfied: pyasn1-modules>=0.2.1 in /usr/local/lib/python3.7/dist-packages (from google-auth<2,>=1.6.3->tensorboard) (0.2.8)\n",
            "Requirement already satisfied: cachetools<5.0,>=2.0.0 in /usr/local/lib/python3.7/dist-packages (from google-auth<2,>=1.6.3->tensorboard) (4.2.4)\n",
            "Requirement already satisfied: rsa<5,>=3.1.4 in /usr/local/lib/python3.7/dist-packages (from google-auth<2,>=1.6.3->tensorboard) (4.7.2)\n",
            "Requirement already satisfied: requests-oauthlib>=0.7.0 in /usr/local/lib/python3.7/dist-packages (from google-auth-oauthlib<0.5,>=0.4.1->tensorboard) (1.3.0)\n",
            "Requirement already satisfied: importlib-metadata in /usr/local/lib/python3.7/dist-packages (from markdown>=2.6.8->tensorboard) (4.8.1)\n",
            "Requirement already satisfied: pyasn1<0.5.0,>=0.4.6 in /usr/local/lib/python3.7/dist-packages (from pyasn1-modules>=0.2.1->google-auth<2,>=1.6.3->tensorboard) (0.4.8)\n",
            "Requirement already satisfied: certifi>=2017.4.17 in /usr/local/lib/python3.7/dist-packages (from requests<3,>=2.21.0->tensorboard) (2021.5.30)\n",
            "Requirement already satisfied: urllib3!=1.25.0,!=1.25.1,<1.26,>=1.21.1 in /usr/local/lib/python3.7/dist-packages (from requests<3,>=2.21.0->tensorboard) (1.24.3)\n",
            "Requirement already satisfied: idna<3,>=2.5 in /usr/local/lib/python3.7/dist-packages (from requests<3,>=2.21.0->tensorboard) (2.10)\n",
            "Requirement already satisfied: chardet<4,>=3.0.2 in /usr/local/lib/python3.7/dist-packages (from requests<3,>=2.21.0->tensorboard) (3.0.4)\n",
            "Requirement already satisfied: oauthlib>=3.0.0 in /usr/local/lib/python3.7/dist-packages (from requests-oauthlib>=0.7.0->google-auth-oauthlib<0.5,>=0.4.1->tensorboard) (3.1.1)\n",
            "Requirement already satisfied: zipp>=0.5 in /usr/local/lib/python3.7/dist-packages (from importlib-metadata->markdown>=2.6.8->tensorboard) (3.6.0)\n",
            "Requirement already satisfied: typing-extensions>=3.6.4 in /usr/local/lib/python3.7/dist-packages (from importlib-metadata->markdown>=2.6.8->tensorboard) (3.7.4.3)\n"
          ]
        }
      ]
    },
    {
      "cell_type": "markdown",
      "metadata": {
        "id": "4UzDWp3jmOjg"
      },
      "source": [
        "## **Downloading Glove word embeddings**\n",
        "Using glove.6B it to create the embedding layer"
      ]
    },
    {
      "cell_type": "code",
      "metadata": {
        "id": "vurgcIbSmSaK",
        "colab": {
          "base_uri": "https://localhost:8080/"
        },
        "outputId": "58383cbb-82a6-4bc3-938e-35306ddb2e1f"
      },
      "source": [
        "!wget http://nlp.stanford.edu/data/glove.6B.zip"
      ],
      "execution_count": null,
      "outputs": [
        {
          "output_type": "stream",
          "name": "stdout",
          "text": [
            "--2021-10-29 22:07:05--  http://nlp.stanford.edu/data/glove.6B.zip\n",
            "Resolving nlp.stanford.edu (nlp.stanford.edu)... 171.64.67.140\n",
            "Connecting to nlp.stanford.edu (nlp.stanford.edu)|171.64.67.140|:80... connected.\n",
            "HTTP request sent, awaiting response... 302 Found\n",
            "Location: https://nlp.stanford.edu/data/glove.6B.zip [following]\n",
            "--2021-10-29 22:07:05--  https://nlp.stanford.edu/data/glove.6B.zip\n",
            "Connecting to nlp.stanford.edu (nlp.stanford.edu)|171.64.67.140|:443... connected.\n",
            "HTTP request sent, awaiting response... 301 Moved Permanently\n",
            "Location: http://downloads.cs.stanford.edu/nlp/data/glove.6B.zip [following]\n",
            "--2021-10-29 22:07:05--  http://downloads.cs.stanford.edu/nlp/data/glove.6B.zip\n",
            "Resolving downloads.cs.stanford.edu (downloads.cs.stanford.edu)... 171.64.64.22\n",
            "Connecting to downloads.cs.stanford.edu (downloads.cs.stanford.edu)|171.64.64.22|:80... connected.\n",
            "HTTP request sent, awaiting response... 200 OK\n",
            "Length: 862182613 (822M) [application/zip]\n",
            "Saving to: ‘glove.6B.zip’\n",
            "\n",
            "glove.6B.zip        100%[===================>] 822.24M  5.09MB/s    in 2m 40s  \n",
            "\n",
            "2021-10-29 22:09:44 (5.15 MB/s) - ‘glove.6B.zip’ saved [862182613/862182613]\n",
            "\n"
          ]
        }
      ]
    },
    {
      "cell_type": "code",
      "metadata": {
        "id": "GylfwnLJmXua",
        "colab": {
          "base_uri": "https://localhost:8080/"
        },
        "outputId": "47c35e2b-c770-4278-e9b4-ed9f1cd9971b"
      },
      "source": [
        "##Unzipping the glove vectors for creating embedding\n",
        "!unzip glove*.zip"
      ],
      "execution_count": null,
      "outputs": [
        {
          "output_type": "stream",
          "name": "stdout",
          "text": [
            "Archive:  glove.6B.zip\n",
            "  inflating: glove.6B.50d.txt        \n",
            "  inflating: glove.6B.100d.txt       \n",
            "  inflating: glove.6B.200d.txt       \n",
            "  inflating: glove.6B.300d.txt       \n"
          ]
        }
      ]
    },
    {
      "cell_type": "code",
      "metadata": {
        "id": "9KQZTfj-_fgy",
        "colab": {
          "base_uri": "https://localhost:8080/"
        },
        "outputId": "a39d8be7-f9d6-4b36-9f12-074e1685b936"
      },
      "source": [
        "!ls"
      ],
      "execution_count": null,
      "outputs": [
        {
          "output_type": "stream",
          "name": "stdout",
          "text": [
            "glove.6B.100d.txt  glove.6B.300d.txt  glove.6B.zip\n",
            "glove.6B.200d.txt  glove.6B.50d.txt   sample_data\n"
          ]
        }
      ]
    },
    {
      "cell_type": "code",
      "metadata": {
        "id": "feKOoXEln9P9"
      },
      "source": [
        "!rm -rf glove.6B.50d.txt\n",
        "!rm -rf glove.6B.200d.txt\n",
        "!rm -rf glove.6B.300d.txt"
      ],
      "execution_count": null,
      "outputs": []
    },
    {
      "cell_type": "code",
      "metadata": {
        "id": "SUnl0VlC_2tD",
        "colab": {
          "base_uri": "https://localhost:8080/"
        },
        "outputId": "dd193f17-ccda-429e-e245-ba5ee3dca30e"
      },
      "source": [
        "!ls"
      ],
      "execution_count": null,
      "outputs": [
        {
          "output_type": "stream",
          "name": "stdout",
          "text": [
            "glove.6B.100d.txt  glove.6B.zip  sample_data\n"
          ]
        }
      ]
    },
    {
      "cell_type": "markdown",
      "metadata": {
        "id": "ZZt7lqEC_478"
      },
      "source": [
        "*Using 100d gloVe vectors*"
      ]
    },
    {
      "cell_type": "markdown",
      "metadata": {
        "id": "VrMkgEBSPMW_"
      },
      "source": [
        "## **Downloading the dataset for emotion classification**"
      ]
    },
    {
      "cell_type": "code",
      "metadata": {
        "id": "JtpqJ8gIPCTO",
        "colab": {
          "base_uri": "https://localhost:8080/"
        },
        "outputId": "79cee599-d17d-40a4-9881-7226598989ee"
      },
      "source": [
        "!wget https://www.dropbox.com/s/607ptdakxuh5i4s/merged_training.pkl"
      ],
      "execution_count": null,
      "outputs": [
        {
          "output_type": "stream",
          "name": "stdout",
          "text": [
            "--2021-10-29 22:10:54--  https://www.dropbox.com/s/607ptdakxuh5i4s/merged_training.pkl\n",
            "Resolving www.dropbox.com (www.dropbox.com)... 162.125.1.18, 2620:100:6016:18::a27d:112\n",
            "Connecting to www.dropbox.com (www.dropbox.com)|162.125.1.18|:443... connected.\n",
            "HTTP request sent, awaiting response... 301 Moved Permanently\n",
            "Location: /s/raw/607ptdakxuh5i4s/merged_training.pkl [following]\n",
            "--2021-10-29 22:10:54--  https://www.dropbox.com/s/raw/607ptdakxuh5i4s/merged_training.pkl\n",
            "Reusing existing connection to www.dropbox.com:443.\n",
            "HTTP request sent, awaiting response... 302 Found\n",
            "Location: https://uc8c36d1e21db9b737d5b420f682.dl.dropboxusercontent.com/cd/0/inline/BY9Qw3vHO8cXOrIdVNJ-En2Yo_K613nafUsP04O6zuVGMWskHLdk3K7FYt3RnxyJlQGQwouBlMC5Lx7MecyKaCNN1SVlll5_jllNvUUC38BTa_dvRrsdprHvFWEXd6qbPUV6FpeUQuWgKW1F_FX7St_v/file# [following]\n",
            "--2021-10-29 22:10:54--  https://uc8c36d1e21db9b737d5b420f682.dl.dropboxusercontent.com/cd/0/inline/BY9Qw3vHO8cXOrIdVNJ-En2Yo_K613nafUsP04O6zuVGMWskHLdk3K7FYt3RnxyJlQGQwouBlMC5Lx7MecyKaCNN1SVlll5_jllNvUUC38BTa_dvRrsdprHvFWEXd6qbPUV6FpeUQuWgKW1F_FX7St_v/file\n",
            "Resolving uc8c36d1e21db9b737d5b420f682.dl.dropboxusercontent.com (uc8c36d1e21db9b737d5b420f682.dl.dropboxusercontent.com)... 162.125.1.15, 2620:100:6016:15::a27d:10f\n",
            "Connecting to uc8c36d1e21db9b737d5b420f682.dl.dropboxusercontent.com (uc8c36d1e21db9b737d5b420f682.dl.dropboxusercontent.com)|162.125.1.15|:443... connected.\n",
            "HTTP request sent, awaiting response... 302 Found\n",
            "Location: /cd/0/inline2/BY_RbbCb4D09Pf3WSx7CTfugOsD08cz7qywfZAHKEsUtXnjNdBJXCWv9PJ7jATLCtSnUk5hQjdx24CAhCetb4_Ilhl-vmLkQd3QChYEUYlVp1IWV30sclqXEdBX3bSTd_72l1X58K0SIUkeeHTqpWWZFoiqBpR75XfI6kvz1rvkhcNJOHxO6KL2pzZzyxvo03RGvRkszNsqha4lLmFIMOT4yxyZaWP_9lyjscj1ih7tbefuS4kcgo75aOKkfs0lH_Net14f6KNSc5THUgdfdmQ0ny39c-mpQRR4PuCHXXkqcF3Zf5g_pC4cf1xHWcZyi4qeaLlvheP79-7ohcp2OODyTsSFR_1bC3Sdc3RcJcgTCNiX5zDlXGekshbys4rCOPKQ/file [following]\n",
            "--2021-10-29 22:10:55--  https://uc8c36d1e21db9b737d5b420f682.dl.dropboxusercontent.com/cd/0/inline2/BY_RbbCb4D09Pf3WSx7CTfugOsD08cz7qywfZAHKEsUtXnjNdBJXCWv9PJ7jATLCtSnUk5hQjdx24CAhCetb4_Ilhl-vmLkQd3QChYEUYlVp1IWV30sclqXEdBX3bSTd_72l1X58K0SIUkeeHTqpWWZFoiqBpR75XfI6kvz1rvkhcNJOHxO6KL2pzZzyxvo03RGvRkszNsqha4lLmFIMOT4yxyZaWP_9lyjscj1ih7tbefuS4kcgo75aOKkfs0lH_Net14f6KNSc5THUgdfdmQ0ny39c-mpQRR4PuCHXXkqcF3Zf5g_pC4cf1xHWcZyi4qeaLlvheP79-7ohcp2OODyTsSFR_1bC3Sdc3RcJcgTCNiX5zDlXGekshbys4rCOPKQ/file\n",
            "Reusing existing connection to uc8c36d1e21db9b737d5b420f682.dl.dropboxusercontent.com:443.\n",
            "HTTP request sent, awaiting response... 200 OK\n",
            "Length: 49991846 (48M) [application/octet-stream]\n",
            "Saving to: ‘merged_training.pkl’\n",
            "\n",
            "merged_training.pkl 100%[===================>]  47.68M  26.4MB/s    in 1.8s    \n",
            "\n",
            "2021-10-29 22:10:57 (26.4 MB/s) - ‘merged_training.pkl’ saved [49991846/49991846]\n",
            "\n"
          ]
        }
      ]
    },
    {
      "cell_type": "code",
      "metadata": {
        "id": "0rYszFzWPqK6"
      },
      "source": [
        "import pickle\n",
        "\n",
        "def load_from_pickle(directory):\n",
        "    return pickle.load(open(directory,\"rb\"))"
      ],
      "execution_count": null,
      "outputs": []
    },
    {
      "cell_type": "code",
      "metadata": {
        "id": "_tk_4iQ-PsvY"
      },
      "source": [
        "data = load_from_pickle(directory=\"merged_training.pkl\")\n",
        "\n",
        "## using a sample\n",
        "emotions = [ \"sadness\", \"joy\", \"love\", \"anger\", \"fear\", \"surprise\"]\n",
        "data= data[data[\"emotions\"].isin(emotions)]"
      ],
      "execution_count": null,
      "outputs": []
    },
    {
      "cell_type": "code",
      "metadata": {
        "id": "dO1xEkykQY8D",
        "colab": {
          "base_uri": "https://localhost:8080/"
        },
        "outputId": "64ee9522-dfb0-40dd-a605-624ac978bdd4"
      },
      "source": [
        "data.info()"
      ],
      "execution_count": null,
      "outputs": [
        {
          "output_type": "stream",
          "name": "stdout",
          "text": [
            "<class 'pandas.core.frame.DataFrame'>\n",
            "Int64Index: 416809 entries, 27383 to 64703\n",
            "Data columns (total 2 columns):\n",
            " #   Column    Non-Null Count   Dtype \n",
            "---  ------    --------------   ----- \n",
            " 0   text      416809 non-null  object\n",
            " 1   emotions  416809 non-null  object\n",
            "dtypes: object(2)\n",
            "memory usage: 9.5+ MB\n"
          ]
        }
      ]
    },
    {
      "cell_type": "code",
      "metadata": {
        "id": "u5ipy2VBQdz-",
        "colab": {
          "base_uri": "https://localhost:8080/",
          "height": 172
        },
        "outputId": "bfd7e53e-4e0f-4a31-e4d4-2f9c614db4a2"
      },
      "source": [
        "data.describe()"
      ],
      "execution_count": null,
      "outputs": [
        {
          "output_type": "execute_result",
          "data": {
            "text/html": [
              "<div>\n",
              "<style scoped>\n",
              "    .dataframe tbody tr th:only-of-type {\n",
              "        vertical-align: middle;\n",
              "    }\n",
              "\n",
              "    .dataframe tbody tr th {\n",
              "        vertical-align: top;\n",
              "    }\n",
              "\n",
              "    .dataframe thead th {\n",
              "        text-align: right;\n",
              "    }\n",
              "</style>\n",
              "<table border=\"1\" class=\"dataframe\">\n",
              "  <thead>\n",
              "    <tr style=\"text-align: right;\">\n",
              "      <th></th>\n",
              "      <th>text</th>\n",
              "      <th>emotions</th>\n",
              "    </tr>\n",
              "  </thead>\n",
              "  <tbody>\n",
              "    <tr>\n",
              "      <th>count</th>\n",
              "      <td>416809</td>\n",
              "      <td>416809</td>\n",
              "    </tr>\n",
              "    <tr>\n",
              "      <th>unique</th>\n",
              "      <td>393822</td>\n",
              "      <td>6</td>\n",
              "    </tr>\n",
              "    <tr>\n",
              "      <th>top</th>\n",
              "      <td>i feel more adventurous willing to take risks</td>\n",
              "      <td>joy</td>\n",
              "    </tr>\n",
              "    <tr>\n",
              "      <th>freq</th>\n",
              "      <td>16</td>\n",
              "      <td>141067</td>\n",
              "    </tr>\n",
              "  </tbody>\n",
              "</table>\n",
              "</div>"
            ],
            "text/plain": [
              "                                                 text emotions\n",
              "count                                          416809   416809\n",
              "unique                                         393822        6\n",
              "top     i feel more adventurous willing to take risks      joy\n",
              "freq                                               16   141067"
            ]
          },
          "metadata": {},
          "execution_count": 11
        }
      ]
    },
    {
      "cell_type": "markdown",
      "metadata": {
        "id": "Axqq3n6EAVUs"
      },
      "source": [
        "**Checking for NULLs**"
      ]
    },
    {
      "cell_type": "code",
      "metadata": {
        "id": "laP9BKZsQiIO",
        "colab": {
          "base_uri": "https://localhost:8080/"
        },
        "outputId": "637c1c42-932d-4565-c12f-e1bab08c2cc2"
      },
      "source": [
        "data.isna().sum()"
      ],
      "execution_count": null,
      "outputs": [
        {
          "output_type": "execute_result",
          "data": {
            "text/plain": [
              "text        0\n",
              "emotions    0\n",
              "dtype: int64"
            ]
          },
          "metadata": {},
          "execution_count": 12
        }
      ]
    },
    {
      "cell_type": "code",
      "metadata": {
        "id": "_i-irlEkQoje",
        "colab": {
          "base_uri": "https://localhost:8080/"
        },
        "outputId": "8879ba5b-8986-4427-ae2b-462acc8d4d8a"
      },
      "source": [
        "data.isnull().sum()"
      ],
      "execution_count": null,
      "outputs": [
        {
          "output_type": "execute_result",
          "data": {
            "text/plain": [
              "text        0\n",
              "emotions    0\n",
              "dtype: int64"
            ]
          },
          "metadata": {},
          "execution_count": 13
        }
      ]
    },
    {
      "cell_type": "code",
      "metadata": {
        "id": "NgTNDtvnQskR",
        "colab": {
          "base_uri": "https://localhost:8080/",
          "height": 665
        },
        "outputId": "96a77d53-76e4-4f22-a512-2e5c9c916d76"
      },
      "source": [
        "data.head(20)"
      ],
      "execution_count": null,
      "outputs": [
        {
          "output_type": "execute_result",
          "data": {
            "text/html": [
              "<div>\n",
              "<style scoped>\n",
              "    .dataframe tbody tr th:only-of-type {\n",
              "        vertical-align: middle;\n",
              "    }\n",
              "\n",
              "    .dataframe tbody tr th {\n",
              "        vertical-align: top;\n",
              "    }\n",
              "\n",
              "    .dataframe thead th {\n",
              "        text-align: right;\n",
              "    }\n",
              "</style>\n",
              "<table border=\"1\" class=\"dataframe\">\n",
              "  <thead>\n",
              "    <tr style=\"text-align: right;\">\n",
              "      <th></th>\n",
              "      <th>text</th>\n",
              "      <th>emotions</th>\n",
              "    </tr>\n",
              "  </thead>\n",
              "  <tbody>\n",
              "    <tr>\n",
              "      <th>27383</th>\n",
              "      <td>i feel awful about it too because it s my job ...</td>\n",
              "      <td>sadness</td>\n",
              "    </tr>\n",
              "    <tr>\n",
              "      <th>110083</th>\n",
              "      <td>im alone i feel awful</td>\n",
              "      <td>sadness</td>\n",
              "    </tr>\n",
              "    <tr>\n",
              "      <th>140764</th>\n",
              "      <td>ive probably mentioned this before but i reall...</td>\n",
              "      <td>joy</td>\n",
              "    </tr>\n",
              "    <tr>\n",
              "      <th>100071</th>\n",
              "      <td>i was feeling a little low few days back</td>\n",
              "      <td>sadness</td>\n",
              "    </tr>\n",
              "    <tr>\n",
              "      <th>2837</th>\n",
              "      <td>i beleive that i am much more sensitive to oth...</td>\n",
              "      <td>love</td>\n",
              "    </tr>\n",
              "    <tr>\n",
              "      <th>18231</th>\n",
              "      <td>i find myself frustrated with christians becau...</td>\n",
              "      <td>love</td>\n",
              "    </tr>\n",
              "    <tr>\n",
              "      <th>10714</th>\n",
              "      <td>i am one of those people who feels like going ...</td>\n",
              "      <td>joy</td>\n",
              "    </tr>\n",
              "    <tr>\n",
              "      <th>35177</th>\n",
              "      <td>i feel especially pleased about this as this h...</td>\n",
              "      <td>joy</td>\n",
              "    </tr>\n",
              "    <tr>\n",
              "      <th>122177</th>\n",
              "      <td>i was struggling with these awful feelings and...</td>\n",
              "      <td>joy</td>\n",
              "    </tr>\n",
              "    <tr>\n",
              "      <th>26723</th>\n",
              "      <td>i feel so enraged but helpless at the same time</td>\n",
              "      <td>anger</td>\n",
              "    </tr>\n",
              "    <tr>\n",
              "      <th>41979</th>\n",
              "      <td>i said feeling a bit rebellious</td>\n",
              "      <td>anger</td>\n",
              "    </tr>\n",
              "    <tr>\n",
              "      <th>2046</th>\n",
              "      <td>i also feel disillusioned that someone who cla...</td>\n",
              "      <td>sadness</td>\n",
              "    </tr>\n",
              "    <tr>\n",
              "      <th>98659</th>\n",
              "      <td>i mean is on this stupid trip of making the gr...</td>\n",
              "      <td>joy</td>\n",
              "    </tr>\n",
              "    <tr>\n",
              "      <th>50434</th>\n",
              "      <td>i woke up feeling particularly vile tried to i...</td>\n",
              "      <td>anger</td>\n",
              "    </tr>\n",
              "    <tr>\n",
              "      <th>9280</th>\n",
              "      <td>i could feel the vile moth burrowing its way i...</td>\n",
              "      <td>anger</td>\n",
              "    </tr>\n",
              "    <tr>\n",
              "      <th>92846</th>\n",
              "      <td>i know its just doing its job and doesnt actua...</td>\n",
              "      <td>joy</td>\n",
              "    </tr>\n",
              "    <tr>\n",
              "      <th>106363</th>\n",
              "      <td>i wish you knew every word i write i write for...</td>\n",
              "      <td>sadness</td>\n",
              "    </tr>\n",
              "    <tr>\n",
              "      <th>23395</th>\n",
              "      <td>i feel weird knowing mine died when i wasn t a...</td>\n",
              "      <td>fear</td>\n",
              "    </tr>\n",
              "    <tr>\n",
              "      <th>31583</th>\n",
              "      <td>i feel assured that there is no such thing as ...</td>\n",
              "      <td>joy</td>\n",
              "    </tr>\n",
              "    <tr>\n",
              "      <th>8271</th>\n",
              "      <td>i feel blessed everyday for our little man and...</td>\n",
              "      <td>love</td>\n",
              "    </tr>\n",
              "  </tbody>\n",
              "</table>\n",
              "</div>"
            ],
            "text/plain": [
              "                                                     text emotions\n",
              "27383   i feel awful about it too because it s my job ...  sadness\n",
              "110083                              im alone i feel awful  sadness\n",
              "140764  ive probably mentioned this before but i reall...      joy\n",
              "100071           i was feeling a little low few days back  sadness\n",
              "2837    i beleive that i am much more sensitive to oth...     love\n",
              "18231   i find myself frustrated with christians becau...     love\n",
              "10714   i am one of those people who feels like going ...      joy\n",
              "35177   i feel especially pleased about this as this h...      joy\n",
              "122177  i was struggling with these awful feelings and...      joy\n",
              "26723     i feel so enraged but helpless at the same time    anger\n",
              "41979                     i said feeling a bit rebellious    anger\n",
              "2046    i also feel disillusioned that someone who cla...  sadness\n",
              "98659   i mean is on this stupid trip of making the gr...      joy\n",
              "50434   i woke up feeling particularly vile tried to i...    anger\n",
              "9280    i could feel the vile moth burrowing its way i...    anger\n",
              "92846   i know its just doing its job and doesnt actua...      joy\n",
              "106363  i wish you knew every word i write i write for...  sadness\n",
              "23395   i feel weird knowing mine died when i wasn t a...     fear\n",
              "31583   i feel assured that there is no such thing as ...      joy\n",
              "8271    i feel blessed everyday for our little man and...     love"
            ]
          },
          "metadata": {},
          "execution_count": 14
        }
      ]
    },
    {
      "cell_type": "code",
      "metadata": {
        "id": "5sjJ8y2HE7XE",
        "colab": {
          "base_uri": "https://localhost:8080/"
        },
        "outputId": "53a5d80a-c9de-48cc-839b-005780223a0e"
      },
      "source": [
        "data['emotions'].value_counts()"
      ],
      "execution_count": null,
      "outputs": [
        {
          "output_type": "execute_result",
          "data": {
            "text/plain": [
              "joy         141067\n",
              "sadness     121187\n",
              "anger        57317\n",
              "fear         47712\n",
              "love         34554\n",
              "surprise     14972\n",
              "Name: emotions, dtype: int64"
            ]
          },
          "metadata": {},
          "execution_count": 15
        }
      ]
    },
    {
      "cell_type": "markdown",
      "metadata": {
        "id": "CwyHOdThAiBl"
      },
      "source": [
        "**Checking whether data is balanced**"
      ]
    },
    {
      "cell_type": "code",
      "metadata": {
        "id": "OAM3BN_JQ9Kf",
        "colab": {
          "base_uri": "https://localhost:8080/",
          "height": 313
        },
        "outputId": "00bc572d-5f8d-443a-a360-ef7e402ed33e"
      },
      "source": [
        "data.emotions.value_counts().plot.bar()"
      ],
      "execution_count": null,
      "outputs": [
        {
          "output_type": "execute_result",
          "data": {
            "text/plain": [
              "<matplotlib.axes._subplots.AxesSubplot at 0x7f5a187ad9d0>"
            ]
          },
          "metadata": {},
          "execution_count": 16
        },
        {
          "output_type": "display_data",
          "data": {
            "image/png": "[encoded data removed]",
            "text/plain": [
              "<Figure size 432x288 with 1 Axes>"
            ]
          },
          "metadata": {
            "needs_background": "light"
          }
        }
      ]
    },
    {
      "cell_type": "code",
      "metadata": {
        "id": "BwBcnRE3RQSC"
      },
      "source": [
        "MAX_NB_WORDS = 100000    # max no. of words for tokenizer\n",
        "MAX_SEQUENCE_LENGTH = 170 # max length of each entry (sentence), including padding\n",
        "VALIDATION_SPLIT = 0.2   # data for validation (not used in training)\n",
        "EMBEDDING_DIM = 100      # embedding dimensions for word vectors (word2vec/GloVe)\n",
        "\n",
        "train = data\n",
        "\n",
        "#labels = emotions\n",
        "y = train['emotions'].values\n",
        "comments_train = train['text']\n",
        "comments_train = list(comments_train)"
      ],
      "execution_count": null,
      "outputs": []
    },
    {
      "cell_type": "code",
      "metadata": {
        "id": "8ivFJmfwSTxS",
        "colab": {
          "base_uri": "https://localhost:8080/"
        },
        "outputId": "93996e23-a47e-46db-9c51-20fcdafd17a9"
      },
      "source": [
        "len(comments_train)"
      ],
      "execution_count": null,
      "outputs": [
        {
          "output_type": "execute_result",
          "data": {
            "text/plain": [
              "416809"
            ]
          },
          "metadata": {},
          "execution_count": 18
        }
      ]
    },
    {
      "cell_type": "code",
      "metadata": {
        "id": "KSEVIbcVSiGh"
      },
      "source": [
        "max_text = (max(comments_train, key=len))"
      ],
      "execution_count": null,
      "outputs": []
    },
    {
      "cell_type": "code",
      "metadata": {
        "id": "PSM4yn70S6xJ",
        "colab": {
          "base_uri": "https://localhost:8080/"
        },
        "outputId": "1be3fd38-c693-4eaf-936e-31901a8081a8"
      },
      "source": [
        "len(max_text.split())"
      ],
      "execution_count": null,
      "outputs": [
        {
          "output_type": "execute_result",
          "data": {
            "text/plain": [
              "178"
            ]
          },
          "metadata": {},
          "execution_count": 20
        }
      ]
    },
    {
      "cell_type": "code",
      "metadata": {
        "id": "c5rchMd6VWZs"
      },
      "source": [
        "def num_words(sentence):\n",
        "  words = sentence.split()\n",
        "  return len(words)"
      ],
      "execution_count": null,
      "outputs": []
    },
    {
      "cell_type": "code",
      "metadata": {
        "id": "4wIeBGPLTOLc",
        "colab": {
          "base_uri": "https://localhost:8080/"
        },
        "outputId": "15e2b63e-69ef-4e7a-a752-8aff5e26d6cc"
      },
      "source": [
        "total_avg_words = sum( map(num_words, comments_train) ) / len(comments_train)\n",
        "total_avg_words"
      ],
      "execution_count": null,
      "outputs": [
        {
          "output_type": "execute_result",
          "data": {
            "text/plain": [
              "19.211015117235952"
            ]
          },
          "metadata": {},
          "execution_count": 22
        }
      ]
    },
    {
      "cell_type": "code",
      "metadata": {
        "id": "LeVLS2zpYGzM"
      },
      "source": [
        "MAX_SEQUENCE_LENGTH = 50"
      ],
      "execution_count": null,
      "outputs": []
    },
    {
      "cell_type": "markdown",
      "metadata": {
        "id": "b2Wwti9DYZ05"
      },
      "source": [
        "## **Text pre-proccessing for remove stopwords and clean the data**"
      ]
    },
    {
      "cell_type": "code",
      "metadata": {
        "id": "f2xf7CpDoo7r",
        "colab": {
          "base_uri": "https://localhost:8080/"
        },
        "outputId": "16be5bf2-ce82-4269-a646-d269b6ca46cf"
      },
      "source": [
        "import re\n",
        "from tqdm import tqdm_notebook\n",
        "\n",
        "import nltk\n",
        "nltk.download('stopwords')\n",
        "\n",
        "from nltk.corpus import stopwords"
      ],
      "execution_count": null,
      "outputs": [
        {
          "output_type": "stream",
          "name": "stdout",
          "text": [
            "[nltk_data] Downloading package stopwords to /root/nltk_data...\n",
            "[nltk_data]   Unzipping corpora/stopwords.zip.\n"
          ]
        }
      ]
    },
    {
      "cell_type": "code",
      "metadata": {
        "id": "_X_v8bTmqgq1"
      },
      "source": [
        "def clean_text(text, remove_stopwords = True):\n",
        "    output = \"\"\n",
        "    text = str(text).replace(\"\\n\", \"\")\n",
        "    text = re.sub(r'[^\\w\\s]','',text).lower()\n",
        "    if remove_stopwords:\n",
        "        text = text.split(\" \")\n",
        "        for word in text:\n",
        "            if word not in stopwords.words(\"english\"):\n",
        "                output = output + \" \" + word\n",
        "    else:\n",
        "        output = text\n",
        "    return str(output.strip())[1:-3].replace(\"  \", \" \")"
      ],
      "execution_count": null,
      "outputs": []
    },
    {
      "cell_type": "code",
      "metadata": {
        "id": "vzRNXxd6YRZh",
        "colab": {
          "base_uri": "https://localhost:8080/",
          "height": 119,
          "referenced_widgets": [
            "e61c535ab76b49adbd6d1d2f59f31394",
            "f2cec0c1bf944a399d8287455d70c375",
            "63a71571f2dc45be9e21ad5d1a06c8a7",
            "a0b79407e81b42f19b2e8e26b0f56500",
            "507e65a1f7b8474aa6ad98fe1fa084c1",
            "b2ef76409b7a448f81028a4230f30493",
            "70be3f1f32b144268130010564c998dd",
            "2d6f71a3b36047448a4d5bab253d0e74",
            "6f54942c244447d797c434b7a7917b83",
            "145c43e9526d4f48be7a6a0404ed293e",
            "25e64124584a4048b25f6ee6c174ba02"
          ]
        },
        "outputId": "f1f6a0b9-e335-4a4d-891c-4ae2a9bb7f58"
      },
      "source": [
        "texts = []\n",
        "\n",
        "for line in tqdm_notebook(comments_train, total=159571): \n",
        "    texts.append(clean_text(line))"
      ],
      "execution_count": null,
      "outputs": [
        {
          "output_type": "stream",
          "name": "stderr",
          "text": [
            "/usr/local/lib/python3.7/dist-packages/ipykernel_launcher.py:3: TqdmDeprecationWarning: This function will be removed in tqdm==5.0.0\n",
            "Please use `tqdm.notebook.tqdm` instead of `tqdm.tqdm_notebook`\n",
            "  This is separate from the ipykernel package so we can avoid doing imports until\n"
          ]
        },
        {
          "output_type": "display_data",
          "data": {
            "application/vnd.jupyter.widget-view+json": {
              "model_id": "e61c535ab76b49adbd6d1d2f59f31394",
              "version_minor": 0,
              "version_major": 2
            },
            "text/plain": [
              "  0%|          | 0/159571 [00:00<?, ?it/s]"
            ]
          },
          "metadata": {}
        }
      ]
    },
    {
      "cell_type": "code",
      "metadata": {
        "id": "EgRSRXEddeNU",
        "colab": {
          "base_uri": "https://localhost:8080/"
        },
        "outputId": "93f41a9c-ca1b-47a8-a89e-240244354cb2"
      },
      "source": [
        "print('Sample data:', texts[1], y[1])"
      ],
      "execution_count": null,
      "outputs": [
        {
          "output_type": "stream",
          "name": "stdout",
          "text": [
            "Sample data: m alone feel aw sadness\n"
          ]
        }
      ]
    },
    {
      "cell_type": "markdown",
      "metadata": {
        "id": "OnRb9xWSdvWt"
      },
      "source": [
        "## **Tokenizing the texts**"
      ]
    },
    {
      "cell_type": "code",
      "metadata": {
        "id": "MKTxpal-o2DS"
      },
      "source": [
        "from tensorflow.keras.preprocessing.text import Tokenizer"
      ],
      "execution_count": null,
      "outputs": []
    },
    {
      "cell_type": "code",
      "metadata": {
        "id": "MToEWKBedmHU",
        "colab": {
          "base_uri": "https://localhost:8080/"
        },
        "outputId": "189394d9-2a64-4a2b-ff5c-ddbdec461bab"
      },
      "source": [
        "tokenizer = Tokenizer(num_words=MAX_NB_WORDS)\n",
        "tokenizer.fit_on_texts(texts)\n",
        "sequences = tokenizer.texts_to_sequences(texts)\n",
        "word_index = tokenizer.word_index\n",
        "print('Vocabulary size:', len(word_index))"
      ],
      "execution_count": null,
      "outputs": [
        {
          "output_type": "stream",
          "name": "stdout",
          "text": [
            "Vocabulary size: 86474\n"
          ]
        }
      ]
    },
    {
      "cell_type": "code",
      "metadata": {
        "id": "1jQj6lESd4EP"
      },
      "source": [
        "import json\n",
        "with open('word_index.json', 'w') as f:\n",
        "    json.dump(word_index, f)\n",
        "with open('index_word.json', 'w') as f2:\n",
        "    json.dump(tokenizer.index_word, f2)"
      ],
      "execution_count": null,
      "outputs": []
    },
    {
      "cell_type": "code",
      "metadata": {
        "id": "YWUFMe5venYt",
        "colab": {
          "base_uri": "https://localhost:8080/"
        },
        "outputId": "595d2cb4-80a0-40d6-ba5b-fc9ef5682005"
      },
      "source": [
        "from tensorflow.keras.preprocessing.sequence import pad_sequences\n",
        "data = pad_sequences(sequences, padding = 'post', maxlen = MAX_SEQUENCE_LENGTH)\n",
        "print('Shape of data tensor:', data.shape)\n",
        "print('Shape of label tensor:', y.shape)"
      ],
      "execution_count": null,
      "outputs": [
        {
          "output_type": "stream",
          "name": "stdout",
          "text": [
            "Shape of data tensor: (416809, 50)\n",
            "Shape of label tensor: (416809,)\n"
          ]
        }
      ]
    },
    {
      "cell_type": "code",
      "metadata": {
        "id": "6wYmHzuVfJPZ"
      },
      "source": [
        "import numpy as np\n",
        "\n",
        "indices = np.arange(data.shape[0])\n",
        "np.random.shuffle(indices)\n",
        "data = data[indices]\n",
        "labels = y[indices]"
      ],
      "execution_count": null,
      "outputs": []
    },
    {
      "cell_type": "code",
      "metadata": {
        "id": "LOczYxDefPK-",
        "colab": {
          "base_uri": "https://localhost:8080/"
        },
        "outputId": "130a7f56-3caf-4263-d95e-212c51746c15"
      },
      "source": [
        "data[25]"
      ],
      "execution_count": null,
      "outputs": [
        {
          "output_type": "execute_result",
          "data": {
            "text/plain": [
              "array([ 2791,  3782,  6295,   955,    46,  2153, 12282,    17,  1100,\n",
              "          10,    14,     4,   475,   911,  1100,    12,   415,    62,\n",
              "         273,  1364,    25,     2,   454, 18549,  1063,    63,  5393,\n",
              "           0,     0,     0,     0,     0,     0,     0,     0,     0,\n",
              "           0,     0,     0,     0,     0,     0,     0,     0,     0,\n",
              "           0,     0,     0,     0,     0], dtype=int32)"
            ]
          },
          "metadata": {},
          "execution_count": 37
        }
      ]
    },
    {
      "cell_type": "markdown",
      "metadata": {
        "id": "l7gVYydsCPsj"
      },
      "source": [
        "**We can see in the above output that the text is tuned into tokens**"
      ]
    },
    {
      "cell_type": "code",
      "metadata": {
        "id": "Zm7BnNXqfRxm",
        "colab": {
          "base_uri": "https://localhost:8080/",
          "height": 35
        },
        "outputId": "16df9079-802b-4244-c50a-8c1a3117c360"
      },
      "source": [
        "labels[25]"
      ],
      "execution_count": null,
      "outputs": [
        {
          "output_type": "execute_result",
          "data": {
            "application/vnd.google.colaboratory.intrinsic+json": {
              "type": "string"
            },
            "text/plain": [
              "'joy'"
            ]
          },
          "metadata": {},
          "execution_count": 38
        }
      ]
    },
    {
      "cell_type": "markdown",
      "metadata": {
        "id": "ow5WhdR9-vqm"
      },
      "source": [
        "## **One-hot encoding labels for the text**"
      ]
    },
    {
      "cell_type": "code",
      "metadata": {
        "id": "4Lzq7JFcf2DA",
        "colab": {
          "base_uri": "https://localhost:8080/"
        },
        "outputId": "52ceb676-8a30-4f14-8657-6f1df57d4efc"
      },
      "source": [
        "from sklearn import preprocessing\n",
        "lb = preprocessing.LabelBinarizer()\n",
        "lb.fit(labels)"
      ],
      "execution_count": null,
      "outputs": [
        {
          "output_type": "execute_result",
          "data": {
            "text/plain": [
              "LabelBinarizer(neg_label=0, pos_label=1, sparse_output=False)"
            ]
          },
          "metadata": {},
          "execution_count": 39
        }
      ]
    },
    {
      "cell_type": "code",
      "metadata": {
        "id": "OTffnsiMf8IU",
        "colab": {
          "base_uri": "https://localhost:8080/"
        },
        "outputId": "a401744f-bc71-4b52-a515-2a3f2745d39a"
      },
      "source": [
        "lb.classes_"
      ],
      "execution_count": null,
      "outputs": [
        {
          "output_type": "execute_result",
          "data": {
            "text/plain": [
              "array(['anger', 'fear', 'joy', 'love', 'sadness', 'surprise'], dtype='<U8')"
            ]
          },
          "metadata": {},
          "execution_count": 40
        }
      ]
    },
    {
      "cell_type": "code",
      "metadata": {
        "id": "UISjirthgHbR"
      },
      "source": [
        "labels = lb.transform(labels)"
      ],
      "execution_count": null,
      "outputs": []
    },
    {
      "cell_type": "code",
      "metadata": {
        "id": "GUMSiashgNaG",
        "colab": {
          "base_uri": "https://localhost:8080/"
        },
        "outputId": "b647aea3-0d84-4fa1-da5f-407d658d3d65"
      },
      "source": [
        "labels[25]"
      ],
      "execution_count": null,
      "outputs": [
        {
          "output_type": "execute_result",
          "data": {
            "text/plain": [
              "array([0, 0, 1, 0, 0, 0])"
            ]
          },
          "metadata": {},
          "execution_count": 42
        }
      ]
    },
    {
      "cell_type": "markdown",
      "metadata": {
        "id": "rm-srlW_CbC2"
      },
      "source": [
        "**We can see that the labels are now one hot encoded**"
      ]
    },
    {
      "cell_type": "code",
      "metadata": {
        "id": "NuXPGlQAfYiZ",
        "colab": {
          "base_uri": "https://localhost:8080/"
        },
        "outputId": "fd8db3f6-144a-41d3-fd1e-fc23f4e2891f"
      },
      "source": [
        "num_validation_samples = int(VALIDATION_SPLIT*data.shape[0])\n",
        "x_train = data[: -num_validation_samples]\n",
        "y_train = labels[: -num_validation_samples]\n",
        "x_val = data[-num_validation_samples: ]\n",
        "y_val = labels[-num_validation_samples: ]\n",
        "print('Number of entries in each category:')\n",
        "print('training: ', y_train.sum(axis=0))\n",
        "print('validation: ', y_val.sum(axis=0))"
      ],
      "execution_count": null,
      "outputs": [
        {
          "output_type": "stream",
          "name": "stdout",
          "text": [
            "Number of entries in each category:\n",
            "training:  [ 45907  38252 112865  27639  96882  11903]\n",
            "validation:  [11410  9460 28202  6915 24305  3069]\n"
          ]
        }
      ]
    },
    {
      "cell_type": "markdown",
      "metadata": {
        "id": "w6F6hEosCppZ"
      },
      "source": [
        "Checking for the validation and train data shapes after splitting"
      ]
    },
    {
      "cell_type": "code",
      "metadata": {
        "id": "ofk5fpxXglFW",
        "colab": {
          "base_uri": "https://localhost:8080/"
        },
        "outputId": "7e1cf398-a188-4b03-91c6-ec0abfb1ad0d"
      },
      "source": [
        "x_train.shape"
      ],
      "execution_count": null,
      "outputs": [
        {
          "output_type": "execute_result",
          "data": {
            "text/plain": [
              "(333448, 50)"
            ]
          },
          "metadata": {},
          "execution_count": 44
        }
      ]
    },
    {
      "cell_type": "code",
      "metadata": {
        "id": "J-QgdzHhgpIi",
        "colab": {
          "base_uri": "https://localhost:8080/"
        },
        "outputId": "b4950c20-5c9d-427a-c2e1-6ffd770015e7"
      },
      "source": [
        "y_train.shape"
      ],
      "execution_count": null,
      "outputs": [
        {
          "output_type": "execute_result",
          "data": {
            "text/plain": [
              "(333448, 6)"
            ]
          },
          "metadata": {},
          "execution_count": 45
        }
      ]
    },
    {
      "cell_type": "code",
      "metadata": {
        "id": "6I6piGBqsCtH",
        "colab": {
          "base_uri": "https://localhost:8080/"
        },
        "outputId": "557e384f-987f-40d6-9ba2-74f441320532"
      },
      "source": [
        "x_val.shape"
      ],
      "execution_count": null,
      "outputs": [
        {
          "output_type": "execute_result",
          "data": {
            "text/plain": [
              "(83361, 50)"
            ]
          },
          "metadata": {},
          "execution_count": 46
        }
      ]
    },
    {
      "cell_type": "code",
      "metadata": {
        "id": "H7Ea8hUbtvSq",
        "colab": {
          "base_uri": "https://localhost:8080/"
        },
        "outputId": "757a5c5f-17e0-411a-c04b-426e360f2ded"
      },
      "source": [
        "y_val.shape"
      ],
      "execution_count": null,
      "outputs": [
        {
          "output_type": "execute_result",
          "data": {
            "text/plain": [
              "(83361, 6)"
            ]
          },
          "metadata": {},
          "execution_count": 47
        }
      ]
    },
    {
      "cell_type": "markdown",
      "metadata": {
        "id": "JKBBdhBa-m3V"
      },
      "source": [
        "## **Creating the test set**"
      ]
    },
    {
      "cell_type": "code",
      "metadata": {
        "id": "C4-MO5HlsL7D"
      },
      "source": [
        "x_val = x_val[: -40000]\n",
        "y_val = y_val[: -40000]\n",
        "x_test = x_val[-40000: ]\n",
        "y_test = y_val[-40000: ]"
      ],
      "execution_count": null,
      "outputs": []
    },
    {
      "cell_type": "code",
      "metadata": {
        "id": "F1xA-v7EhDdg",
        "colab": {
          "base_uri": "https://localhost:8080/"
        },
        "outputId": "b41842cc-90e9-4337-e550-89787fcc645e"
      },
      "source": [
        "print('Tokenized sentences: \\n', data[10])\n",
        "print('One hot label: \\n', labels[10])"
      ],
      "execution_count": null,
      "outputs": [
        {
          "output_type": "stream",
          "name": "stdout",
          "text": [
            "Tokenized sentences: \n",
            " [1904   24    3    4   14   82  152 2617 1567 5390  587  322   88 2304\n",
            "    0    0    0    0    0    0    0    0    0    0    0    0    0    0\n",
            "    0    0    0    0    0    0    0    0    0    0    0    0    0    0\n",
            "    0    0    0    0    0    0    0    0]\n",
            "One hot label: \n",
            " [0 0 1 0 0 0]\n"
          ]
        }
      ]
    },
    {
      "cell_type": "markdown",
      "metadata": {
        "id": "UVfuAyPKC4g0"
      },
      "source": [
        "Above is a sample for vectorized text and one hot encoded labels."
      ]
    },
    {
      "cell_type": "markdown",
      "metadata": {
        "id": "RzpqsYFv_5-T"
      },
      "source": [
        "## **Creating the embedding matrix for the model**"
      ]
    },
    {
      "cell_type": "code",
      "metadata": {
        "id": "hABB26ndhIl8",
        "colab": {
          "base_uri": "https://localhost:8080/"
        },
        "outputId": "3d856107-ebb9-4397-b491-d9f9093e0006"
      },
      "source": [
        "embeddings_index = {}\n",
        "f = open('/content/glove.6B.100d.txt')\n",
        "print('Loading GloVe from:', '/content/glove.6B.100d.txt','...', end='')\n",
        "for line in f:\n",
        "    values = line.split()\n",
        "    word = values[0]\n",
        "    embeddings_index[word] = np.asarray(values[1:], dtype='float32')\n",
        "f.close()\n",
        "print(\"Done.\\n Proceeding with Embedding Matrix...\", end=\"\")\n",
        "\n",
        "embedding_matrix = np.random.random((len(word_index) + 1, EMBEDDING_DIM))\n",
        "for word, i in word_index.items():\n",
        "    embedding_vector = embeddings_index.get(word)\n",
        "    if embedding_vector is not None:\n",
        "        embedding_matrix[i] = embedding_vector\n",
        "print(\" Completed!\")"
      ],
      "execution_count": null,
      "outputs": [
        {
          "output_type": "stream",
          "name": "stdout",
          "text": [
            "Loading GloVe from: /content/glove.6B.100d.txt ...Done.\n",
            " Proceeding with Embedding Matrix... Completed!\n"
          ]
        }
      ]
    },
    {
      "cell_type": "code",
      "metadata": {
        "id": "C0GL1iv6hW9h",
        "colab": {
          "base_uri": "https://localhost:8080/"
        },
        "outputId": "d68b9b49-2b92-409a-a9ff-549c4f687df6"
      },
      "source": [
        "embedding_matrix.shape"
      ],
      "execution_count": null,
      "outputs": [
        {
          "output_type": "execute_result",
          "data": {
            "text/plain": [
              "(86475, 100)"
            ]
          },
          "metadata": {},
          "execution_count": 51
        }
      ]
    },
    {
      "cell_type": "markdown",
      "metadata": {
        "id": "DBFZQgjdDM-w"
      },
      "source": [
        "We have chosen 100d Glove vectors and converted them into gloVe embeddings"
      ]
    },
    {
      "cell_type": "markdown",
      "metadata": {
        "id": "UQqqqPakhfzm"
      },
      "source": [
        "## **Create the model**"
      ]
    },
    {
      "cell_type": "code",
      "metadata": {
        "id": "874LqeJFtTkg"
      },
      "source": [
        "from tensorflow.keras import regularizers, initializers, optimizers, callbacks\n",
        "from tensorflow.keras.layers import *\n",
        "from tensorflow.keras.models import Model"
      ],
      "execution_count": null,
      "outputs": []
    },
    {
      "cell_type": "code",
      "metadata": {
        "id": "EiGxU1NthiQ9"
      },
      "source": [
        "sequence_input = Input(shape=(MAX_SEQUENCE_LENGTH,), dtype='int32')\n",
        "##Creating an embedding layer\n",
        "embedding_layer = Embedding(len(word_index) + 1,\n",
        "                           EMBEDDING_DIM,\n",
        "                           weights = [embedding_matrix],\n",
        "                           input_length = MAX_SEQUENCE_LENGTH,\n",
        "                           trainable=False,\n",
        "                           name = 'embeddings')\n",
        "embedded_sequences = embedding_layer(sequence_input)\n",
        "##Adding LSTM\n",
        "x = LSTM(60, return_sequences=True,name='lstm_layer')(embedded_sequences)\n",
        "x = GlobalMaxPool1D()(x)\n",
        "x = Dropout(0.1)(x)\n",
        "x = Dense(50, activation=\"relu\")(x)\n",
        "x = Dropout(0.1)(x)\n",
        "preds = Dense(6, activation=\"softmax\")(x)"
      ],
      "execution_count": null,
      "outputs": []
    },
    {
      "cell_type": "code",
      "metadata": {
        "id": "GHp7DbdJhuMq"
      },
      "source": [
        "model = Model(sequence_input, preds)\n",
        "model.compile(loss = 'categorical_crossentropy',\n",
        "             optimizer='adam',\n",
        "             metrics = ['accuracy'])"
      ],
      "execution_count": null,
      "outputs": []
    },
    {
      "cell_type": "code",
      "metadata": {
        "id": "baScL0nUh2az",
        "colab": {
          "base_uri": "https://localhost:8080/",
          "height": 758
        },
        "outputId": "544f2612-0c65-4619-ef08-880a96ff4be9"
      },
      "source": [
        "import tensorflow as tf\n",
        "tf.keras.utils.plot_model(model)"
      ],
      "execution_count": null,
      "outputs": [
        {
          "output_type": "execute_result",
          "data": {
            "image/png": "[encoded data removed]",
            "text/plain": [
              "<IPython.core.display.Image object>"
            ]
          },
          "metadata": {},
          "execution_count": 55
        }
      ]
    },
    {
      "cell_type": "markdown",
      "metadata": {
        "id": "fP5UnIVZDzmP"
      },
      "source": [
        "## **Model Finetuning**"
      ]
    },
    {
      "cell_type": "code",
      "metadata": {
        "id": "whiw6yd6iA-Y",
        "colab": {
          "base_uri": "https://localhost:8080/"
        },
        "outputId": "65276cec-e2c3-4d70-d9f5-2ce74694bbe8"
      },
      "source": [
        "##Train model for 5 epochs\n",
        "history = model.fit(x_train, y_train, epochs = 5, batch_size=128, validation_data=(x_val, y_val))"
      ],
      "execution_count": null,
      "outputs": [
        {
          "output_type": "stream",
          "name": "stdout",
          "text": [
            "Epoch 1/5\n",
            "2606/2606 [==============================] - 19s 5ms/step - loss: 0.5960 - accuracy: 0.7777 - val_loss: 0.2465 - val_accuracy: 0.8978\n",
            "Epoch 2/5\n",
            "2606/2606 [==============================] - 14s 5ms/step - loss: 0.2358 - accuracy: 0.9035 - val_loss: 0.1743 - val_accuracy: 0.9175\n",
            "Epoch 3/5\n",
            "2606/2606 [==============================] - 14s 5ms/step - loss: 0.1790 - accuracy: 0.9173 - val_loss: 0.1512 - val_accuracy: 0.9215\n",
            "Epoch 4/5\n",
            "2606/2606 [==============================] - 14s 5ms/step - loss: 0.1540 - accuracy: 0.9233 - val_loss: 0.1391 - val_accuracy: 0.9243\n",
            "Epoch 5/5\n",
            "2606/2606 [==============================] - 14s 5ms/step - loss: 0.1418 - accuracy: 0.9255 - val_loss: 0.1325 - val_accuracy: 0.9254\n"
          ]
        }
      ]
    },
    {
      "cell_type": "code",
      "metadata": {
        "id": "q7pVZVQOibnL",
        "colab": {
          "base_uri": "https://localhost:8080/",
          "height": 295
        },
        "outputId": "eabbdc13-1884-47b5-f4ae-6987864e1f83"
      },
      "source": [
        "import matplotlib.pyplot as plt\n",
        "\n",
        "loss = history.history['loss']\n",
        "val_loss = history.history['val_loss']\n",
        "epochs = range(1, len(loss)+1)\n",
        "plt.plot(epochs, loss, label='Training loss')\n",
        "plt.plot(epochs, val_loss, label='Validation loss')\n",
        "plt.title('Training and validation loss')\n",
        "plt.xlabel('Epochs')\n",
        "plt.ylabel('Loss')\n",
        "plt.legend()\n",
        "plt.show();"
      ],
      "execution_count": null,
      "outputs": [
        {
          "output_type": "display_data",
          "data": {
            "image/png": "[encoded data removed]",
            "text/plain": [
              "<Figure size 432x288 with 1 Axes>"
            ]
          },
          "metadata": {
            "needs_background": "light"
          }
        }
      ]
    },
    {
      "cell_type": "code",
      "metadata": {
        "id": "8ZwhCBSTi0g2",
        "colab": {
          "base_uri": "https://localhost:8080/",
          "height": 295
        },
        "outputId": "187b557f-1d24-4a27-aef9-60e283f54640"
      },
      "source": [
        "accuracy = history.history['accuracy']\n",
        "val_accuracy = history.history['val_accuracy']\n",
        "plt.plot(epochs, accuracy, label='Training accuracy')\n",
        "plt.plot(epochs, val_accuracy, label='Validation accuracy')\n",
        "plt.title('Training and validation accuracy')\n",
        "plt.ylabel('Accuracy')\n",
        "plt.xlabel('Epochs')\n",
        "plt.legend()\n",
        "plt.show();"
      ],
      "execution_count": null,
      "outputs": [
        {
          "output_type": "display_data",
          "data": {
            "image/png": "[encoded data removed]",
            "text/plain": [
              "<Figure size 432x288 with 1 Axes>"
            ]
          },
          "metadata": {
            "needs_background": "light"
          }
        }
      ]
    },
    {
      "cell_type": "code",
      "metadata": {
        "id": "9g5O1Nap4B0b",
        "colab": {
          "base_uri": "https://localhost:8080/"
        },
        "outputId": "8efcc2fc-4582-4447-e9c9-d1b669b3fe70"
      },
      "source": [
        "print(\"Accuracy in the test set:\")\n",
        "model.evaluate(x_test, y_test)[1]"
      ],
      "execution_count": null,
      "outputs": [
        {
          "output_type": "stream",
          "name": "stdout",
          "text": [
            "Accuracy in the test set:\n",
            "1250/1250 [==============================] - 4s 3ms/step - loss: 0.1318 - accuracy: 0.9253\n"
          ]
        },
        {
          "output_type": "execute_result",
          "data": {
            "text/plain": [
              "0.9252750277519226"
            ]
          },
          "metadata": {},
          "execution_count": 59
        }
      ]
    },
    {
      "cell_type": "markdown",
      "metadata": {
        "id": "BLPvRne5lymD"
      },
      "source": [
        "## **Testing the model**"
      ]
    },
    {
      "cell_type": "code",
      "metadata": {
        "id": "wCpK7qyol1dU"
      },
      "source": [
        "samples = ['i feel like, i do not know...', 'love you woman', 'that is so funny', 'mamma, i just killed a man', 'i want to ride my bicycle', 'im alone i feel awful', 'i beleive that i am much more sensitive to oth...']"
      ],
      "execution_count": null,
      "outputs": []
    },
    {
      "cell_type": "code",
      "metadata": {
        "id": "QHoN-zl1vXVx",
        "colab": {
          "base_uri": "https://localhost:8080/"
        },
        "outputId": "d4c0516d-d989-4880-a80c-8d75f29212a5"
      },
      "source": [
        "cleaned_samples = []\n",
        "for sentence in samples:\n",
        "  print(sentence)\n",
        "  cleaned = clean_text(sentence)\n",
        "  print(cleaned)\n",
        "  cleaned_samples.append(cleaned)"
      ],
      "execution_count": null,
      "outputs": [
        {
          "output_type": "stream",
          "name": "stdout",
          "text": [
            "i feel like, i do not know...\n",
            "eel like k\n",
            "love you woman\n",
            "ove wo\n",
            "that is so funny\n",
            "u\n",
            "mamma, i just killed a man\n",
            "amma killed \n",
            "i want to ride my bicycle\n",
            "ant ride bicy\n",
            "im alone i feel awful\n",
            "m alone feel aw\n",
            "i beleive that i am much more sensitive to oth...\n",
            "eleive much sensitive \n"
          ]
        }
      ]
    },
    {
      "cell_type": "code",
      "metadata": {
        "id": "6TErUPivwgEK"
      },
      "source": [
        "tokenized_seq = tokenizer.texts_to_sequences(cleaned_samples)\n",
        "padded_seq =  pad_sequences(tokenized_seq, padding = 'post', maxlen = MAX_SEQUENCE_LENGTH)"
      ],
      "execution_count": null,
      "outputs": []
    },
    {
      "cell_type": "code",
      "metadata": {
        "id": "Z863mKHHysRt"
      },
      "source": [
        "int2label = {\n",
        "    0: 'anger',\n",
        "    1: 'fear',\n",
        "    2: 'joy',\n",
        "    3: 'love',\n",
        "    4: 'sadness',\n",
        "    5: 'surprise'\n",
        "}"
      ],
      "execution_count": null,
      "outputs": []
    },
    {
      "cell_type": "code",
      "metadata": {
        "id": "r5zLcDjCli8R"
      },
      "source": [
        "predictions = model.predict(padded_seq)"
      ],
      "execution_count": null,
      "outputs": []
    },
    {
      "cell_type": "code",
      "metadata": {
        "id": "9uXrH6FSxsgN",
        "colab": {
          "base_uri": "https://localhost:8080/"
        },
        "outputId": "6d48cd13-0f04-4170-f801-49772c42da60"
      },
      "source": [
        "for i, prediction in enumerate(predictions):\n",
        "  print(samples[i] +\" : \" +int2label[(np.argmax(prediction))])"
      ],
      "execution_count": null,
      "outputs": [
        {
          "output_type": "stream",
          "name": "stdout",
          "text": [
            "i feel like, i do not know... : joy\n",
            "love you woman : joy\n",
            "that is so funny : anger\n",
            "mamma, i just killed a man : fear\n",
            "i want to ride my bicycle : anger\n",
            "im alone i feel awful : sadness\n",
            "i beleive that i am much more sensitive to oth... : fear\n"
          ]
        }
      ]
    },
    {
      "cell_type": "code",
      "metadata": {
        "id": "DXf789i__8Qt"
      },
      "source": [
        "pred = int2label[(np.argmax(prediction))]"
      ],
      "execution_count": null,
      "outputs": []
    },
    {
      "cell_type": "code",
      "metadata": {
        "id": "ZCDkk498ADEv",
        "colab": {
          "base_uri": "https://localhost:8080/",
          "height": 35
        },
        "outputId": "3a54737c-a9a4-43e7-c986-f3be367a9681"
      },
      "source": [
        "pred"
      ],
      "execution_count": null,
      "outputs": [
        {
          "output_type": "execute_result",
          "data": {
            "application/vnd.google.colaboratory.intrinsic+json": {
              "type": "string"
            },
            "text/plain": [
              "'fear'"
            ]
          },
          "metadata": {},
          "execution_count": 69
        }
      ]
    },
    {
      "cell_type": "code",
      "metadata": {
        "id": "2fiMeU0Dxtay"
      },
      "source": [
        "model.save('model.h5')"
      ],
      "execution_count": null,
      "outputs": []
    },
    {
      "cell_type": "markdown",
      "metadata": {
        "id": "wPO8FQN6N9OD"
      },
      "source": [
        "## **Gradio**"
      ]
    },
    {
      "cell_type": "code",
      "metadata": {
        "colab": {
          "base_uri": "https://localhost:8080/"
        },
        "id": "UWhvgEIzN_BJ",
        "outputId": "504d3418-341c-478e-a09e-be6ebc455a90"
      },
      "source": [
        "!pip install -q gradio"
      ],
      "execution_count": null,
      "outputs": [
        {
          "output_type": "stream",
          "name": "stdout",
          "text": [
            "\u001b[K     |████████████████████████████████| 2.0 MB 9.9 MB/s \n",
            "\u001b[K     |████████████████████████████████| 1.9 MB 48.0 MB/s \n",
            "\u001b[K     |████████████████████████████████| 206 kB 76.4 MB/s \n",
            "\u001b[K     |████████████████████████████████| 63 kB 2.9 MB/s \n",
            "\u001b[K     |████████████████████████████████| 961 kB 79.1 MB/s \n",
            "\u001b[K     |████████████████████████████████| 3.5 MB 49.2 MB/s \n",
            "\u001b[?25h  Building wheel for ffmpy (setup.py) ... \u001b[?25l\u001b[?25hdone\n",
            "  Building wheel for flask-cachebuster (setup.py) ... \u001b[?25l\u001b[?25hdone\n"
          ]
        }
      ]
    },
    {
      "cell_type": "code",
      "metadata": {
        "colab": {
          "base_uri": "https://localhost:8080/",
          "height": 571
        },
        "id": "e4mSKq52OEYP",
        "outputId": "408fa74a-5317-4abb-83a0-789d1df28256"
      },
      "source": [
        "import tensorflow as tf\n",
        "import numpy as np\n",
        "# from urllib.request import urlretrieve\n",
        "import gradio as gr\n",
        "\n",
        "def emotion_classification(sentence):\n",
        "    cleaned = clean_text(sentence)\n",
        "    cleaned_samples.append(cleaned)\n",
        "    tokenized_seq = tokenizer.texts_to_sequences(cleaned_samples)\n",
        "    padded_seq =  pad_sequences(tokenized_seq, padding = 'post', maxlen = MAX_SEQUENCE_LENGTH)\n",
        "    predictions = model.predict(padded_seq)\n",
        "    pred = int2label[(np.argmax(prediction))]\n",
        "    return pred\n",
        "\n",
        "output_component = gr.outputs.Label(num_top_classes=2)\n",
        "\n",
        "gr.Interface(fn=emotion_classification, \n",
        "             inputs=\"textbox\", \n",
        "             outputs='textbox').launch(share=True);"
      ],
      "execution_count": null,
      "outputs": [
        {
          "output_type": "stream",
          "name": "stdout",
          "text": [
            "Colab notebook detected. To show errors in colab notebook, set `debug=True` in `launch()`\n",
            "This share link will expire in 72 hours. If you need a permanent link, visit: https://gradio.app/introducing-hosted\n",
            "Running on External URL: https://30868.gradio.app\n"
          ]
        },
        {
          "output_type": "display_data",
          "data": {
            "text/html": [
              "\n",
              "        <iframe\n",
              "            width=\"900\"\n",
              "            height=\"500\"\n",
              "            src=\"https://30868.gradio.app\"\n",
              "            frameborder=\"0\"\n",
              "            allowfullscreen\n",
              "        ></iframe>\n",
              "        "
            ],
            "text/plain": [
              "<IPython.lib.display.IFrame at 0x7f58cfc478d0>"
            ]
          },
          "metadata": {}
        }
      ]
    }
  ]
}