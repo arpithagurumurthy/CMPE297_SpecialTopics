{
  "nbformat": 4,
  "nbformat_minor": 0,
  "metadata": {
    "colab": {
      "name": "CMPE297_HW4_Text.ipynb",
      "provenance": []
    },
    "kernelspec": {
      "name": "python3",
      "display_name": "Python 3"
    },
    "language_info": {
      "name": "python"
    }
  },
  "cells": [
    {
      "cell_type": "markdown",
      "metadata": {
        "id": "cmvhkIsB7hIe"
      },
      "source": [
        "# **Using Deep AutoVIML for text dataset - Twitter Sentiment dataset**\n",
        "\n",
        "## **Main References:**\n",
        "* https://www.youtube.com/watch?v=IcpwNNNXsWE\n",
        "* https://github.com/AutoViML/deep_autoviml/blob/master/examples/Deep_Auto_ViML_NLP_Demo.ipynb\n",
        "* Dataset used: https://www.kaggle.com/arkhoshghalb/twitter-sentiment-analysis-hatred-speech\n"
      ]
    },
    {
      "cell_type": "code",
      "metadata": {
        "id": "Gm5yaR7-7c82"
      },
      "source": [
        "!pip install deep_autoviml --upgrade"
      ],
      "execution_count": null,
      "outputs": []
    },
    {
      "cell_type": "code",
      "metadata": {
        "colab": {
          "base_uri": "https://localhost:8080/"
        },
        "id": "VWV4yR9W7ohB",
        "outputId": "00229be0-00a4-46bd-b18d-04f12028797b"
      },
      "source": [
        "from deep_autoviml import deep_autoviml as deepauto\n",
        "import numpy as np\n",
        "import pandas as pd\n",
        "from sklearn.model_selection import train_test_split\n",
        "from sklearn.preprocessing import StandardScaler"
      ],
      "execution_count": 1,
      "outputs": [
        {
          "output_type": "stream",
          "name": "stdout",
          "text": [
            "\n",
            "Imported deep_auto_viml. version=0.0.69\n",
            "from deep_autoviml import deep_autoviml as deepauto\n",
            "-------------------\n",
            "model, cat_vocab_dict = deepauto.fit(train, target, keras_model_type=\"fast\",\n",
            "\t\tproject_name=\"deep_autoviml\", keras_options=keras_options,  \n",
            "\t\tmodel_options=model_options, save_model_flag=True, use_my_model='',\n",
            "\t\tmodel_use_case='', verbose=0)\n",
            "\n",
            "predictions = deepauto.predict(model, project_name, test_dataset=test,\n",
            "                                 keras_model_type=keras_model_type, \n",
            "                                 cat_vocab_dict=cat_vocab_dict)\n",
            "                                \n"
          ]
        }
      ]
    },
    {
      "cell_type": "code",
      "metadata": {
        "id": "R9IKHP1S7u6w"
      },
      "source": [
        "BATCHSIZE = 256\n",
        "CLASSES = 10\n",
        "EPOCHS = 25\n",
        "NUM_TRIALS = 5"
      ],
      "execution_count": 2,
      "outputs": []
    },
    {
      "cell_type": "markdown",
      "metadata": {
        "id": "Tg60jtRlaib6"
      },
      "source": [
        "## **Data Loading**"
      ]
    },
    {
      "cell_type": "code",
      "metadata": {
        "colab": {
          "base_uri": "https://localhost:8080/"
        },
        "id": "DDkhcmIONhLw",
        "outputId": "7056349d-1e3e-45a9-d44a-ccce2c0ca620"
      },
      "source": [
        "from google.colab import drive\n",
        "drive.mount('/content/gdrive')"
      ],
      "execution_count": 3,
      "outputs": [
        {
          "output_type": "stream",
          "name": "stdout",
          "text": [
            "Mounted at /content/gdrive\n"
          ]
        }
      ]
    },
    {
      "cell_type": "code",
      "metadata": {
        "colab": {
          "base_uri": "https://localhost:8080/"
        },
        "id": "9scHKjyKN1IR",
        "outputId": "ab682fa1-037a-4c5e-cffa-a367d761096f"
      },
      "source": [
        "!pwd"
      ],
      "execution_count": 4,
      "outputs": [
        {
          "output_type": "stream",
          "name": "stdout",
          "text": [
            "/content\n"
          ]
        }
      ]
    },
    {
      "cell_type": "code",
      "metadata": {
        "id": "wdLk87T6NhXr"
      },
      "source": [
        "import os\n",
        "os.environ['KAGGLE_CONFIG_DIR']='/content/gdrive/My Drive/CMPE297_HW4_Text'"
      ],
      "execution_count": 5,
      "outputs": []
    },
    {
      "cell_type": "code",
      "metadata": {
        "colab": {
          "base_uri": "https://localhost:8080/"
        },
        "id": "KG7-goS2N5Z7",
        "outputId": "a8b5c43c-4e50-433c-ae52-db1e64da23d8"
      },
      "source": [
        "%cd /content/gdrive/My Drive/CMPE297_HW4_Text"
      ],
      "execution_count": 7,
      "outputs": [
        {
          "output_type": "stream",
          "name": "stdout",
          "text": [
            "/content/gdrive/My Drive/CMPE297_HW4_Text\n"
          ]
        }
      ]
    },
    {
      "cell_type": "code",
      "metadata": {
        "colab": {
          "base_uri": "https://localhost:8080/"
        },
        "id": "SMIJ788pN6L8",
        "outputId": "4b7c017a-479f-4ca8-b174-69f72b6d850e"
      },
      "source": [
        "!ls"
      ],
      "execution_count": 12,
      "outputs": [
        {
          "output_type": "stream",
          "name": "stdout",
          "text": [
            "kaggle.json  test.csv  text_twitter.zip  train.csv\n"
          ]
        }
      ]
    },
    {
      "cell_type": "code",
      "metadata": {
        "colab": {
          "base_uri": "https://localhost:8080/"
        },
        "id": "jqm61k2COU9A",
        "outputId": "206c66d0-2fea-4918-d3be-30e7abac4a3c"
      },
      "source": [
        "!unzip text_twitter.zip"
      ],
      "execution_count": 11,
      "outputs": [
        {
          "output_type": "stream",
          "name": "stdout",
          "text": [
            "Archive:  text_twitter.zip\n",
            "  inflating: test.csv                \n",
            "  inflating: train.csv               \n"
          ]
        }
      ]
    },
    {
      "cell_type": "code",
      "metadata": {
        "id": "2hcg-iGjOW0F"
      },
      "source": [
        "df = pd.read_csv('./train.csv')"
      ],
      "execution_count": 13,
      "outputs": []
    },
    {
      "cell_type": "code",
      "metadata": {
        "colab": {
          "base_uri": "https://localhost:8080/",
          "height": 80
        },
        "id": "eVSw6rqhOmH-",
        "outputId": "bdd8d6e8-38a0-4e86-93fb-077f1e8e959d"
      },
      "source": [
        "df.head(1)"
      ],
      "execution_count": 14,
      "outputs": [
        {
          "output_type": "execute_result",
          "data": {
            "text/html": [
              "<div>\n",
              "<style scoped>\n",
              "    .dataframe tbody tr th:only-of-type {\n",
              "        vertical-align: middle;\n",
              "    }\n",
              "\n",
              "    .dataframe tbody tr th {\n",
              "        vertical-align: top;\n",
              "    }\n",
              "\n",
              "    .dataframe thead th {\n",
              "        text-align: right;\n",
              "    }\n",
              "</style>\n",
              "<table border=\"1\" class=\"dataframe\">\n",
              "  <thead>\n",
              "    <tr style=\"text-align: right;\">\n",
              "      <th></th>\n",
              "      <th>id</th>\n",
              "      <th>label</th>\n",
              "      <th>tweet</th>\n",
              "    </tr>\n",
              "  </thead>\n",
              "  <tbody>\n",
              "    <tr>\n",
              "      <th>0</th>\n",
              "      <td>1</td>\n",
              "      <td>0</td>\n",
              "      <td>@user when a father is dysfunctional and is s...</td>\n",
              "    </tr>\n",
              "  </tbody>\n",
              "</table>\n",
              "</div>"
            ],
            "text/plain": [
              "   id  label                                              tweet\n",
              "0   1      0   @user when a father is dysfunctional and is s..."
            ]
          },
          "metadata": {},
          "execution_count": 14
        }
      ]
    },
    {
      "cell_type": "code",
      "metadata": {
        "id": "Zrl_2mKMOn0q"
      },
      "source": [
        "df.rename(columns={\"label\":\"class\"}, inplace=True)"
      ],
      "execution_count": 17,
      "outputs": []
    },
    {
      "cell_type": "code",
      "metadata": {
        "colab": {
          "base_uri": "https://localhost:8080/",
          "height": 80
        },
        "id": "3x_VQIdQOyjN",
        "outputId": "4dfa2f09-7b92-4149-8776-b9cd9993cd7a"
      },
      "source": [
        "df.head(1)"
      ],
      "execution_count": 18,
      "outputs": [
        {
          "output_type": "execute_result",
          "data": {
            "text/html": [
              "<div>\n",
              "<style scoped>\n",
              "    .dataframe tbody tr th:only-of-type {\n",
              "        vertical-align: middle;\n",
              "    }\n",
              "\n",
              "    .dataframe tbody tr th {\n",
              "        vertical-align: top;\n",
              "    }\n",
              "\n",
              "    .dataframe thead th {\n",
              "        text-align: right;\n",
              "    }\n",
              "</style>\n",
              "<table border=\"1\" class=\"dataframe\">\n",
              "  <thead>\n",
              "    <tr style=\"text-align: right;\">\n",
              "      <th></th>\n",
              "      <th>id</th>\n",
              "      <th>class</th>\n",
              "      <th>tweet</th>\n",
              "    </tr>\n",
              "  </thead>\n",
              "  <tbody>\n",
              "    <tr>\n",
              "      <th>0</th>\n",
              "      <td>1</td>\n",
              "      <td>0</td>\n",
              "      <td>@user when a father is dysfunctional and is s...</td>\n",
              "    </tr>\n",
              "  </tbody>\n",
              "</table>\n",
              "</div>"
            ],
            "text/plain": [
              "   id  class                                              tweet\n",
              "0   1      0   @user when a father is dysfunctional and is s..."
            ]
          },
          "metadata": {},
          "execution_count": 18
        }
      ]
    },
    {
      "cell_type": "code",
      "metadata": {
        "id": "dFidlzr3O-eX"
      },
      "source": [
        "target = 'class'"
      ],
      "execution_count": 19,
      "outputs": []
    },
    {
      "cell_type": "code",
      "metadata": {
        "colab": {
          "base_uri": "https://localhost:8080/"
        },
        "id": "1f64-t2SPDnA",
        "outputId": "dae4cb6b-83d0-4f9d-f08d-3a58d11f0a40"
      },
      "source": [
        "df[target].value_counts()"
      ],
      "execution_count": 20,
      "outputs": [
        {
          "output_type": "execute_result",
          "data": {
            "text/plain": [
              "0    29720\n",
              "1     2242\n",
              "Name: class, dtype: int64"
            ]
          },
          "metadata": {},
          "execution_count": 20
        }
      ]
    },
    {
      "cell_type": "markdown",
      "metadata": {
        "id": "2end-00matcR"
      },
      "source": [
        "## **Splitting into train and test datasets**"
      ]
    },
    {
      "cell_type": "code",
      "metadata": {
        "colab": {
          "base_uri": "https://localhost:8080/"
        },
        "id": "l7_7MR0qSWin",
        "outputId": "f03bb9fb-c87c-4ba9-d786-2b09b25388be"
      },
      "source": [
        "x = df.loc[:, df.columns!=target]\n",
        "y = df[target]\n",
        "x_train, x_test, y_train, y_test = train_test_split(x,y, test_size=0.2, random_state=42)\n",
        "train, test = train_test_split(df, test_size=0.2, random_state=42)\n",
        "print(train.shape, test.shape)"
      ],
      "execution_count": 21,
      "outputs": [
        {
          "output_type": "stream",
          "name": "stdout",
          "text": [
            "(25569, 3) (6393, 3)\n"
          ]
        }
      ]
    },
    {
      "cell_type": "markdown",
      "metadata": {
        "id": "qR58WK40bAkW"
      },
      "source": [
        "* The storm tuner is an open source library used to build the model, with keras_model_type as \"auto\".\n",
        "* Trying a CNN model for keras_model_type is also allowed, on using these keywords, we can build a slightly better/different model\n",
        "* max_trials should be a slightly higher number, using a very small number may not give the best results. The higher the trials, more models will be tried.\n"
      ]
    },
    {
      "cell_type": "code",
      "metadata": {
        "id": "cz_N6eI8TF52"
      },
      "source": [
        "keras_model_type =  \"auto\" ## always try \"auto\" first, then \"basic\", \"deep\", \"big deep\", \"giant deep\", \"cnn1\" etc.\n",
        "keras_options = {\"early_stopping\": False, 'lr_scheduler': 'rlr'}  ### always set early_stopping to True first and then change it to False\n",
        "model_options = {'tuner':\"storm\", \"max_trials\":15, 'embedding_size': 50, 'cat_feat_cross_flag':False }\n"
      ],
      "execution_count": 27,
      "outputs": []
    },
    {
      "cell_type": "code",
      "metadata": {
        "colab": {
          "base_uri": "https://localhost:8080/",
          "height": 1000
        },
        "id": "miMG1aX9Tl_X",
        "outputId": "b8934964-76a2-45e2-d57c-b2fb5c23b4c9"
      },
      "source": [
        "model, dicti = deepauto.fit(train, target, keras_model_type=keras_model_type, \n",
        "                            project_name='text',\n",
        "                 save_model_flag=False, model_options=model_options,\n",
        "                            keras_options=keras_options, use_my_model='', verbose=2)"
      ],
      "execution_count": 28,
      "outputs": [
        {
          "output_type": "stream",
          "name": "stdout",
          "text": [
            "    Only CPU found on this device\n",
            "Setting CPU strategy using 1 devices\n",
            "Using following keras_options given as input:\n",
            "    lr_scheduler : rlr\n",
            "    early_stopping : False\n",
            "Using following model_options given as input:\n",
            "    cat_feat_cross_flag : False\n",
            "    max_trials : 15\n",
            "    tuner : storm\n",
            "    embedding_size : 50\n",
            "Max Trials : 15. Please increase max_trials if you want to better accuracy...\n",
            "\n",
            "#################################################################################\n",
            "###########     L O A D I N G    D A T A    I N T O   TF.DATA.DATASET H E R E  #\n",
            "#################################################################################\n",
            "        \n",
            "Alert! Modified column names to satisfy rules for column names in Tensorflow...\n",
            "    Model type is Classification and Single_Label problem\n",
            "    Classifying variables using data sample in pandas...\n",
            "############## C L A S S I F Y I N G  V A R I A B L E S  ####################\n",
            "Classifying variables in data set...\n",
            "Data Set Shape: 25569 rows, 2 cols\n",
            "Data Set columns info:\n",
            "* id: 0 nulls, 25569 unique vals, most common: {2047: 1, 9518: 1}\n",
            "* tweet: 0 nulls, 23764 unique vals, most common: {'#model   i love u take with u all the time in urð\\x9f\\x93±!!! ð\\x9f\\x98\\x99ð\\x9f\\x98\\x8eð\\x9f\\x91\\x84ð\\x9f\\x91\\x85ð\\x9f\\x92¦ð\\x9f\\x92¦ð\\x9f\\x92¦  ': 253, 'i finally found a way how to delete old tweets! you might find it useful as well:    #deletetweets': 61}\n",
            "--------------------------------------------------------------------\n",
            "    2 Predictors classified...\n",
            "    possible latitude columns in dataset: []\n",
            "        after further analysis, no latitude columns found\n",
            "    possible longitude columns in dataset: []\n",
            "        after further analysis, no longitude columns found\n",
            "        1 variable(s) to be removed since they were ID or low-information variables\n",
            "    List of variables to be removed: ['id']\n",
            "Data Set Shape: 25569 rows, 3 cols\n",
            "   Columns to delete:\n",
            "\"   ['id']\"\n",
            "   Categorical variables: \n",
            "'   []'\n",
            "   Continuous variables:\n",
            "'   []'\n",
            "   Discrete string variables: \n",
            "'   []'\n",
            "   NLP string variables: \n",
            "\"   ['tweet']\"\n",
            "   Date and time variables: \n",
            "'   []'\n",
            "   ID variables %s \n",
            "\"   ['id']\"\n",
            "   Target variable %s \n",
            "'   class'\n",
            "Distribution of string columns in datatset:\n",
            "    number of binary = 0, cats = 0, high cats = 0, very high cats = 1\n",
            "Distribution of integer columns in datatset:\n",
            "    number of binary = 1, cats = 0, high cats = 0, very high cats = 1\n",
            "Distribution of floats:\n",
            "    number float variables = 0\n",
            "No data transformations needed in this dataset\n",
            "    we transformed ['id'] from integer to float\n",
            "printing first five values of class: [1 0 0 0 0]\n",
            "printing features and their max, min, datatypes in one batch \n",
            "tweet is detected and will be treated as an NLP variable\n",
            "  '    sample words from vocab': tweet\n",
            "  '    size of vocab'      : 409623\n",
            "  '    max'                : defaultdict(<function nested_dictionary at 0x7f214260c440>, {})\n",
            "  '    min'                : defaultdict(<function nested_dictionary at 0x7f214260c440>, {})\n",
            "  '    dtype'              : string\n",
            "    after data cleaning, number of predictors used in modeling = 1\n",
            "Not performing feature crossing for categorical nor integer variables\n",
            "    Dropping ['id'] columns marked for deletion...\n",
            "Boolean column successfully processed\n",
            "    combined NLP or text vars: ['tweet'] into a single feature successfully\n",
            "Printing one batch from the dataset:\n",
            "tweet                                   : [b'love has a nasty habit of disappearing overnight \\xc3\\xa2\\xc2\\x9c\\xc2\\x8c #thebeatles #aye #selfie #liverpool   '\n",
            " b' @user one of my favs #flashbackfriday #girlspeeing #waterspos #fun   #gg #piss #vipissy  '\n",
            " b' @user tomorrow is our summer wine tasting and the opening of our new wine showroom #cellar21 we look forward to seeing you tomo\\xc3\\xa2\\xc2\\x80\\xc2\\xa6'\n",
            " b'damn, i need to appreciate my life more!    ']\n",
            "combined_nlp_text                       : [b'love has a nasty habit of disappearing overnight \\xc3\\xa2\\xc2\\x9c\\xc2\\x8c #thebeatles #aye #selfie #liverpool   '\n",
            " b' @user one of my favs #flashbackfriday #girlspeeing #waterspos #fun   #gg #piss #vipissy  '\n",
            " b' @user tomorrow is our summer wine tasting and the opening of our new wine showroom #cellar21 we look forward to seeing you tomo\\xc3\\xa2\\xc2\\x80\\xc2\\xa6'\n",
            " b'damn, i need to appreciate my life more!    ']\n",
            "       Class  -> Counts -> Percent\n",
            "           0:    2388  ->   93.4%\n",
            "           1:     169  ->    6.6%\n",
            "    Class weights calculated: {0: 1.0, 1: 7.56508875739645}\n",
            "\n",
            "#################################################################################\n",
            "###########     K E R A S     F E A T U R E    P R E P R O C E S S I N G  #######\n",
            "#################################################################################\n",
            "        \n",
            "Starting NLP string column layer preprocessing...\n",
            "Creating aggregate_nlp_dictionaries for nlp column = tweet\n",
            "    size of vocabulary = 409623\n",
            "    sequence length = 169\n",
            "    recommended embedding_size = 96\n",
            "    input embedding size given as 50. Overriding recommended embedding_size...\n",
            "Max vocab size = 8004\n",
            "    Auto NNLM 50 with Normalization selected from: https://tfhub.dev/google/nnlm-en-dim50-with-normalization/2\n",
            "    NLP Preprocessing completed.\n",
            "Preprocessing non-NLP layers for auto Keras model...\n",
            "    Non-NLP vars is zero in this dataset. No tabular preprocesing needed...\n",
            "There is no numeric or cat or int variables in this data set.\n",
            "    (None, 50) vector dimensions from NLP variable\n",
            "\n",
            "Creating a new Functional model here...\n",
            "\n",
            "#################################################################################\n",
            "###########     C R E A T I N G    A    K E R A S       M O D E L    ############\n",
            "#################################################################################\n",
            "        \n",
            "Creating a keras Function model...\n",
            "    number of outputs = 1, output_activation = sigmoid\n",
            "    loss function: SparseCategoricalCrossentropy\n",
            "    initial learning rate = 0.05\n",
            "    initial optimizer = SGD\n",
            "    Recommended hidden layers (with units in each Dense Layer)  = (192, 128, 64)\n",
            "\n",
            "    creating auto model body...\n",
            "\n",
            "Saving model architecture after training in text/auto/model_2021_11_01-21_41_18/artifacts/model_before.png...will take time...\n",
            "Model plot saved in file: text/auto/model_2021_11_01-21_41_18/artifacts/model_before.png\n"
          ]
        },
        {
          "output_type": "display_data",
          "data": {
            "image/png": "[encoded data removed]",
            "text/plain": [
              "<IPython.core.display.Image object>"
            ]
          },
          "metadata": {
            "image/png": {
              "width": 41,
              "height": 22
            }
          }
        },
        {
          "output_type": "stream",
          "name": "stdout",
          "text": [
            "\n",
            "#################################################################################\n",
            "###########     T R A I N I N G    K E R A S   M O D E L   H E R E      #########\n",
            "#################################################################################\n",
            "    \n",
            "Building and training an automatic model using storm Tuner...\n",
            "    Class weights: {0: 1.0, 1: 7.56508875739645}\n",
            "    original datasize = 25569, initial batchsize = 32\n",
            "    Early stopping : False\n",
            "    recommended steps per epoch = 10\n",
            "    default initializer = lecun_normal, default activation = selu\n",
            "    Onecycle steps = 40000\n",
            "    number of classes = 2, output_activation = sigmoid\n",
            "    loss function: SparseCategoricalCrossentropy\n",
            "    steps_per_epoch = 10, number epochs = 100\n",
            "    val mode = max, val monitor = val_balanced_sparse_categorical_accuracy, patience = 10\n",
            "Tensorboard log directory can be found at: deep_autoviml/mylogs\n",
            "    chosen keras LR scheduler = rlr\n",
            "\n",
            "Splitting train into 80+20 percent: train and validation data\n",
            "    Splitting validation 20 into 10+10 percent: valid and heldout data\n",
            "Single-Label: Heldout data shape: (256,)\n",
            "    Training auto model using storm. This will take time...\n",
            "new tuner initialized\n",
            "    STORM Tuner max_trials = 15, randomization factor = 0.5\n",
            "Max. batch size = 64, number of batch sizes to try: 5\n",
            "\n",
            "-------- OPTIMIZING HYPERPARAMETERS --------\n",
            "\n",
            "    found best learning rate = 0.000988054\n",
            "<><><> NEW BEST! <><><>\n",
            "\tactivation : relu\n",
            "\tbatch_norm : True\n",
            "\tbatch_size : 32\n",
            "\tdropout_value : 0.2\n",
            "\tinit_lr : 0.001\n",
            "\tkernel_initializer : he_normal\n",
            "\tkernel_size_0 : 250\n",
            "\tnum_layers : 2\n",
            "\toptimizer : Adagrad\n",
            "\tuse_batch_norm : True\n",
            "\tuse_bias : True\n",
            "\tuse_dropout : True\n",
            "\tweight_decay : 0.01\n",
            "1 | score: 0.58877354\n",
            "    found best learning rate = 0.000988054\n",
            "<><><> NEW BEST! <><><>\n",
            "\tactivation : relu\n",
            "\tbatch_norm : True\n",
            "\tbatch_size : 32\n",
            "\tdropout_value : 0.4\n",
            "\tinit_lr : 0.001\n",
            "\tkernel_initializer : he_uniform\n",
            "\tkernel_size_0 : 200\n",
            "\tnum_layers : 3\n",
            "\toptimizer : AdaMax\n",
            "\tuse_batch_norm : True\n",
            "\tuse_bias : True\n",
            "\tuse_dropout : True\n",
            "\tweight_decay : 0.1\n",
            "2 | score: 0.61006488\n",
            "    found best learning rate = 0.009880539\n",
            "3 | score: 0.53333336\n",
            "    found best learning rate = 0.009880539\n",
            "<><><> NEW BEST! <><><>\n",
            "\tactivation : elu\n",
            "\tbatch_norm : True\n",
            "\tbatch_size : 32\n",
            "\tdropout_value : 0.2\n",
            "\tinit_lr : 0.01\n",
            "\tkernel_initializer : glorot_uniform\n",
            "\tkernel_size_0 : 150\n",
            "\tnum_layers : 1\n",
            "\toptimizer : RMSprop\n",
            "\tuse_batch_norm : False\n",
            "\tuse_bias : True\n",
            "\tuse_dropout : True\n",
            "\tweight_decay : 0.0001\n",
            "4 | score: 0.71058805\n",
            "    found best learning rate = 0.000988054\n",
            "5 | score: 0.68246598\n",
            "    found best learning rate = 0.009880539\n",
            "<><><> NEW BEST! <><><>\n",
            "\tactivation : elu\n",
            "\tbatch_norm : True\n",
            "\tbatch_size : 32\n",
            "\tdropout_value : 0.2\n",
            "\tinit_lr : 0.01\n",
            "\tkernel_initializer : glorot_uniform\n",
            "\tkernel_size_0 : 200\n",
            "\tnum_layers : 1\n",
            "\toptimizer : RMSprop\n",
            "\tuse_batch_norm : False\n",
            "\tuse_bias : True\n",
            "\tuse_dropout : True\n",
            "\tweight_decay : 0.0001\n",
            "6 | score: 0.72736123\n",
            "    found best learning rate = 0.009880539\n",
            "7 | score: 0.71738913\n",
            "    found best learning rate = 0.009880539\n",
            "8 | score: 0.72266246\n",
            "    found best learning rate = 0.009880539\n",
            "9 | score: 0.71204036\n",
            "    found best learning rate = 0.009880539\n",
            "<><><> NEW BEST! <><><>\n",
            "\tactivation : elu\n",
            "\tbatch_norm : True\n",
            "\tbatch_size : 32\n",
            "\tdropout_value : 0.2\n",
            "\tinit_lr : 0.01\n",
            "\tkernel_initializer : glorot_uniform\n",
            "\tkernel_size_0 : 200\n",
            "\tnum_layers : 1\n",
            "\toptimizer : RMSprop\n",
            "\tuse_batch_norm : False\n",
            "\tuse_bias : True\n",
            "\tuse_dropout : True\n",
            "\tweight_decay : 0.01\n",
            "10 | score: 0.74448214\n",
            "    found best learning rate = 0.009880539\n",
            "<><><> NEW BEST! <><><>\n",
            "\tactivation : elu\n",
            "\tbatch_norm : True\n",
            "\tbatch_size : 32\n",
            "\tdropout_value : 0.2\n",
            "\tinit_lr : 0.01\n",
            "\tkernel_initializer : glorot_uniform\n",
            "\tkernel_size_0 : 150\n",
            "\tnum_layers : 1\n",
            "\toptimizer : RMSprop\n",
            "\tuse_batch_norm : False\n",
            "\tuse_bias : False\n",
            "\tuse_dropout : True\n",
            "\tweight_decay : 0.01\n",
            "11 | score: 0.75076331\n",
            "    found best learning rate = 0.009880539\n",
            "12 | score: 0.70833423\n",
            "    found best learning rate = 9.880539e-05\n",
            "13 | score: 0.56741955\n",
            "    found best learning rate = 0.000988054\n",
            "14 | score: 0.73757454\n",
            "    found best learning rate = 0.009880539\n",
            "<><><> NEW BEST! <><><>\n",
            "\tactivation : elu\n",
            "\tbatch_norm : False\n",
            "\tbatch_size : 32\n",
            "\tdropout_value : 0.3\n",
            "\tinit_lr : 0.01\n",
            "\tkernel_initializer : glorot_uniform\n",
            "\tkernel_size_0 : 150\n",
            "\tnum_layers : 1\n",
            "\toptimizer : RMSprop\n",
            "\tuse_batch_norm : False\n",
            "\tuse_bias : False\n",
            "\tuse_dropout : True\n",
            "\tweight_decay : 0.01\n",
            "15 | score: 0.75563323\n",
            "tuner finished 15 trials!\n",
            "final best config:\n",
            "\tactivation : elu\n",
            "\tbatch_norm : False\n",
            "\tbatch_size : 32\n",
            "\tdropout_value : 0.3\n",
            "\tinit_lr : 0.01\n",
            "\tkernel_initializer : glorot_uniform\n",
            "\tkernel_size_0 : 150\n",
            "\tnum_layers : 1\n",
            "\toptimizer : RMSprop\n",
            "\tuse_batch_norm : False\n",
            "\tuse_bias : False\n",
            "\tuse_dropout : True\n",
            "\tweight_decay : 0.01\n",
            "    best trial selected as <storm_tuner.tuner.Trial object at 0x7f21280a0610>\n",
            "Time taken for tuning hyperparameters = 1 (mins)\n",
            "Best hyperparameters: {'batch_size': 32, 'num_layers': 1, 'activation': 'elu', 'use_bias': False, 'weight_decay': 0.01, 'batch_norm': False, 'kernel_initializer': 'glorot_uniform', 'use_dropout': True, 'use_batch_norm': False, 'kernel_size_0': 150, 'optimizer': 'RMSprop', 'init_lr': 0.01, 'epsilon': 1e-06, 'dropout_value': 0.3}\n",
            "\n",
            "Setting best optimizer RMSprop its best learning_rate = 0.009880539\n",
            "Model training with best hyperparameters for 100 epochs\n",
            "    Callback added: TensorBoard object at 0x7f212766e750>\n",
            "    Callback added: LearningRateScheduler object at 0x7f212766edd0>\n",
            "Epoch 1/100\n",
            "39/39 [==============================] - 2s 41ms/step - loss: 1.7186 - balanced_sparse_categorical_accuracy: 0.7017 - val_loss: 0.6836 - val_balanced_sparse_categorical_accuracy: 0.7636\n",
            "Epoch 2/100\n",
            "39/39 [==============================] - 0s 6ms/step - loss: 0.9537 - balanced_sparse_categorical_accuracy: 0.7664 - val_loss: 0.5315 - val_balanced_sparse_categorical_accuracy: 0.7446\n",
            "Epoch 3/100\n",
            "39/39 [==============================] - 0s 6ms/step - loss: 0.8963 - balanced_sparse_categorical_accuracy: 0.7576 - val_loss: 0.4848 - val_balanced_sparse_categorical_accuracy: 0.7648\n",
            "Epoch 4/100\n",
            "39/39 [==============================] - 0s 7ms/step - loss: 0.8812 - balanced_sparse_categorical_accuracy: 0.7459 - val_loss: 0.4853 - val_balanced_sparse_categorical_accuracy: 0.7578\n",
            "Epoch 5/100\n",
            "39/39 [==============================] - 0s 9ms/step - loss: 0.8545 - balanced_sparse_categorical_accuracy: 0.7771 - val_loss: 0.4988 - val_balanced_sparse_categorical_accuracy: 0.7609\n",
            "Epoch 6/100\n",
            "39/39 [==============================] - 0s 8ms/step - loss: 0.8741 - balanced_sparse_categorical_accuracy: 0.7408 - val_loss: 0.4920 - val_balanced_sparse_categorical_accuracy: 0.7726\n",
            "Epoch 7/100\n",
            "39/39 [==============================] - 0s 5ms/step - loss: 0.8692 - balanced_sparse_categorical_accuracy: 0.7423 - val_loss: 0.4721 - val_balanced_sparse_categorical_accuracy: 0.7291\n",
            "Epoch 8/100\n",
            "39/39 [==============================] - 1s 10ms/step - loss: 0.8694 - balanced_sparse_categorical_accuracy: 0.7659 - val_loss: 0.4764 - val_balanced_sparse_categorical_accuracy: 0.7635\n",
            "Epoch 9/100\n",
            "39/39 [==============================] - 0s 9ms/step - loss: 0.8697 - balanced_sparse_categorical_accuracy: 0.7235 - val_loss: 0.4776 - val_balanced_sparse_categorical_accuracy: 0.7537\n",
            "Epoch 10/100\n",
            "39/39 [==============================] - 0s 9ms/step - loss: 0.8446 - balanced_sparse_categorical_accuracy: 0.7715 - val_loss: 0.4857 - val_balanced_sparse_categorical_accuracy: 0.7611\n",
            "Epoch 11/100\n",
            "39/39 [==============================] - 0s 6ms/step - loss: 0.8439 - balanced_sparse_categorical_accuracy: 0.7660 - val_loss: 0.4990 - val_balanced_sparse_categorical_accuracy: 0.7420\n",
            "Epoch 12/100\n",
            "39/39 [==============================] - 0s 9ms/step - loss: 0.8424 - balanced_sparse_categorical_accuracy: 0.7537 - val_loss: 0.4691 - val_balanced_sparse_categorical_accuracy: 0.7342\n",
            "Epoch 13/100\n",
            "39/39 [==============================] - 0s 7ms/step - loss: 0.8496 - balanced_sparse_categorical_accuracy: 0.7500 - val_loss: 0.4620 - val_balanced_sparse_categorical_accuracy: 0.7344\n",
            "Epoch 14/100\n",
            "39/39 [==============================] - 0s 9ms/step - loss: 0.8178 - balanced_sparse_categorical_accuracy: 0.7781 - val_loss: 0.4410 - val_balanced_sparse_categorical_accuracy: 0.7412\n",
            "Epoch 15/100\n",
            "39/39 [==============================] - 0s 6ms/step - loss: 0.8124 - balanced_sparse_categorical_accuracy: 0.8012 - val_loss: 0.4200 - val_balanced_sparse_categorical_accuracy: 0.7506\n",
            "Epoch 16/100\n",
            "39/39 [==============================] - 0s 8ms/step - loss: 0.8408 - balanced_sparse_categorical_accuracy: 0.7675 - val_loss: 0.4693 - val_balanced_sparse_categorical_accuracy: 0.7298\n",
            "Epoch 17/100\n",
            "39/39 [==============================] - 0s 6ms/step - loss: 0.8456 - balanced_sparse_categorical_accuracy: 0.7674 - val_loss: 0.5178 - val_balanced_sparse_categorical_accuracy: 0.7492\n",
            "Epoch 18/100\n",
            "39/39 [==============================] - 0s 9ms/step - loss: 0.8110 - balanced_sparse_categorical_accuracy: 0.7445 - val_loss: 0.4622 - val_balanced_sparse_categorical_accuracy: 0.7374\n",
            "Epoch 19/100\n",
            "39/39 [==============================] - 1s 15ms/step - loss: 0.7850 - balanced_sparse_categorical_accuracy: 0.7683 - val_loss: 0.4756 - val_balanced_sparse_categorical_accuracy: 0.7180\n",
            "Epoch 20/100\n",
            "39/39 [==============================] - 1s 11ms/step - loss: 0.8321 - balanced_sparse_categorical_accuracy: 0.7829 - val_loss: 0.4744 - val_balanced_sparse_categorical_accuracy: 0.7350\n",
            "Epoch 21/100\n",
            "39/39 [==============================] - 1s 15ms/step - loss: 0.8132 - balanced_sparse_categorical_accuracy: 0.7598 - val_loss: 0.4305 - val_balanced_sparse_categorical_accuracy: 0.7224\n",
            "Epoch 22/100\n",
            "39/39 [==============================] - 1s 11ms/step - loss: 0.8088 - balanced_sparse_categorical_accuracy: 0.7749 - val_loss: 0.4400 - val_balanced_sparse_categorical_accuracy: 0.7298\n",
            "Epoch 23/100\n",
            "39/39 [==============================] - 1s 11ms/step - loss: 0.7848 - balanced_sparse_categorical_accuracy: 0.7730 - val_loss: 0.4322 - val_balanced_sparse_categorical_accuracy: 0.7439\n",
            "Epoch 24/100\n",
            "39/39 [==============================] - 1s 11ms/step - loss: 0.7900 - balanced_sparse_categorical_accuracy: 0.7564 - val_loss: 0.4618 - val_balanced_sparse_categorical_accuracy: 0.7348\n",
            "Epoch 25/100\n",
            "39/39 [==============================] - 1s 11ms/step - loss: 0.7836 - balanced_sparse_categorical_accuracy: 0.7827 - val_loss: 0.4229 - val_balanced_sparse_categorical_accuracy: 0.7369\n",
            "Epoch 26/100\n",
            "39/39 [==============================] - 0s 9ms/step - loss: 0.7766 - balanced_sparse_categorical_accuracy: 0.7559 - val_loss: 0.4193 - val_balanced_sparse_categorical_accuracy: 0.7536\n",
            "Epoch 27/100\n",
            "39/39 [==============================] - 1s 10ms/step - loss: 0.7790 - balanced_sparse_categorical_accuracy: 0.7692 - val_loss: 0.4587 - val_balanced_sparse_categorical_accuracy: 0.7374\n",
            "Epoch 28/100\n",
            "39/39 [==============================] - 0s 5ms/step - loss: 0.7651 - balanced_sparse_categorical_accuracy: 0.7573 - val_loss: 0.4152 - val_balanced_sparse_categorical_accuracy: 0.7489\n",
            "Epoch 29/100\n",
            "39/39 [==============================] - 1s 17ms/step - loss: 0.7640 - balanced_sparse_categorical_accuracy: 0.7703 - val_loss: 0.4189 - val_balanced_sparse_categorical_accuracy: 0.7298\n",
            "Epoch 30/100\n",
            "39/39 [==============================] - 1s 10ms/step - loss: 0.7582 - balanced_sparse_categorical_accuracy: 0.7800 - val_loss: 0.4331 - val_balanced_sparse_categorical_accuracy: 0.7351\n",
            "Epoch 31/100\n",
            "39/39 [==============================] - 1s 15ms/step - loss: 0.7391 - balanced_sparse_categorical_accuracy: 0.7851 - val_loss: 0.4188 - val_balanced_sparse_categorical_accuracy: 0.7251\n",
            "Epoch 32/100\n",
            "39/39 [==============================] - 1s 11ms/step - loss: 0.7316 - balanced_sparse_categorical_accuracy: 0.7632 - val_loss: 0.4218 - val_balanced_sparse_categorical_accuracy: 0.7420\n",
            "Epoch 33/100\n",
            "39/39 [==============================] - 1s 11ms/step - loss: 0.7437 - balanced_sparse_categorical_accuracy: 0.7824 - val_loss: 0.4235 - val_balanced_sparse_categorical_accuracy: 0.7373\n",
            "Epoch 34/100\n",
            "39/39 [==============================] - 1s 12ms/step - loss: 0.7262 - balanced_sparse_categorical_accuracy: 0.7737 - val_loss: 0.3933 - val_balanced_sparse_categorical_accuracy: 0.7346\n",
            "Epoch 35/100\n",
            "39/39 [==============================] - 1s 15ms/step - loss: 0.7125 - balanced_sparse_categorical_accuracy: 0.7885 - val_loss: 0.4159 - val_balanced_sparse_categorical_accuracy: 0.7349\n",
            "Epoch 36/100\n",
            "39/39 [==============================] - 1s 9ms/step - loss: 0.6942 - balanced_sparse_categorical_accuracy: 0.7709 - val_loss: 0.3865 - val_balanced_sparse_categorical_accuracy: 0.7325\n",
            "Epoch 37/100\n",
            "39/39 [==============================] - 0s 6ms/step - loss: 0.7240 - balanced_sparse_categorical_accuracy: 0.7889 - val_loss: 0.3948 - val_balanced_sparse_categorical_accuracy: 0.7322\n",
            "Epoch 38/100\n",
            "39/39 [==============================] - 1s 10ms/step - loss: 0.7291 - balanced_sparse_categorical_accuracy: 0.7731 - val_loss: 0.4032 - val_balanced_sparse_categorical_accuracy: 0.7111\n",
            "Epoch 39/100\n",
            "39/39 [==============================] - 0s 6ms/step - loss: 0.6999 - balanced_sparse_categorical_accuracy: 0.7645 - val_loss: 0.4036 - val_balanced_sparse_categorical_accuracy: 0.7417\n",
            "Epoch 40/100\n",
            "39/39 [==============================] - 1s 15ms/step - loss: 0.6977 - balanced_sparse_categorical_accuracy: 0.7822 - val_loss: 0.3877 - val_balanced_sparse_categorical_accuracy: 0.7321\n",
            "Epoch 41/100\n",
            "39/39 [==============================] - 1s 10ms/step - loss: 0.7020 - balanced_sparse_categorical_accuracy: 0.7832 - val_loss: 0.4095 - val_balanced_sparse_categorical_accuracy: 0.7351\n",
            "Epoch 42/100\n",
            "39/39 [==============================] - 1s 15ms/step - loss: 0.6928 - balanced_sparse_categorical_accuracy: 0.7648 - val_loss: 0.4005 - val_balanced_sparse_categorical_accuracy: 0.7227\n",
            "Epoch 43/100\n",
            "39/39 [==============================] - 0s 10ms/step - loss: 0.6900 - balanced_sparse_categorical_accuracy: 0.7724 - val_loss: 0.3922 - val_balanced_sparse_categorical_accuracy: 0.7082\n",
            "Epoch 44/100\n",
            "39/39 [==============================] - 1s 11ms/step - loss: 0.6810 - balanced_sparse_categorical_accuracy: 0.7645 - val_loss: 0.3830 - val_balanced_sparse_categorical_accuracy: 0.7178\n",
            "Epoch 45/100\n",
            "39/39 [==============================] - 0s 8ms/step - loss: 0.6724 - balanced_sparse_categorical_accuracy: 0.7717 - val_loss: 0.3829 - val_balanced_sparse_categorical_accuracy: 0.7106\n",
            "Epoch 46/100\n",
            "39/39 [==============================] - 0s 8ms/step - loss: 0.6661 - balanced_sparse_categorical_accuracy: 0.7549 - val_loss: 0.3892 - val_balanced_sparse_categorical_accuracy: 0.7249\n",
            "Epoch 47/100\n",
            "39/39 [==============================] - 1s 15ms/step - loss: 0.6626 - balanced_sparse_categorical_accuracy: 0.7696 - val_loss: 0.3880 - val_balanced_sparse_categorical_accuracy: 0.7225\n",
            "Epoch 48/100\n",
            "39/39 [==============================] - 1s 15ms/step - loss: 0.6624 - balanced_sparse_categorical_accuracy: 0.7539 - val_loss: 0.3948 - val_balanced_sparse_categorical_accuracy: 0.7203\n",
            "Epoch 49/100\n",
            "39/39 [==============================] - 0s 6ms/step - loss: 0.6576 - balanced_sparse_categorical_accuracy: 0.7808 - val_loss: 0.3877 - val_balanced_sparse_categorical_accuracy: 0.7251\n",
            "Epoch 50/100\n",
            "39/39 [==============================] - 1s 15ms/step - loss: 0.6627 - balanced_sparse_categorical_accuracy: 0.7632 - val_loss: 0.3894 - val_balanced_sparse_categorical_accuracy: 0.7249\n",
            "Epoch 51/100\n",
            "39/39 [==============================] - 1s 15ms/step - loss: 0.6375 - balanced_sparse_categorical_accuracy: 0.7639 - val_loss: 0.3785 - val_balanced_sparse_categorical_accuracy: 0.7249\n",
            "Epoch 52/100\n",
            "39/39 [==============================] - 1s 11ms/step - loss: 0.6589 - balanced_sparse_categorical_accuracy: 0.7669 - val_loss: 0.3846 - val_balanced_sparse_categorical_accuracy: 0.7372\n",
            "Epoch 53/100\n",
            "39/39 [==============================] - 1s 11ms/step - loss: 0.6345 - balanced_sparse_categorical_accuracy: 0.7560 - val_loss: 0.3799 - val_balanced_sparse_categorical_accuracy: 0.7251\n",
            "Epoch 54/100\n",
            "39/39 [==============================] - 1s 10ms/step - loss: 0.6291 - balanced_sparse_categorical_accuracy: 0.7639 - val_loss: 0.3737 - val_balanced_sparse_categorical_accuracy: 0.7251\n",
            "Epoch 55/100\n",
            "39/39 [==============================] - 1s 10ms/step - loss: 0.6402 - balanced_sparse_categorical_accuracy: 0.7708 - val_loss: 0.3771 - val_balanced_sparse_categorical_accuracy: 0.7251\n",
            "Epoch 56/100\n",
            "39/39 [==============================] - 1s 9ms/step - loss: 0.6209 - balanced_sparse_categorical_accuracy: 0.7853 - val_loss: 0.3723 - val_balanced_sparse_categorical_accuracy: 0.7251\n",
            "Epoch 57/100\n",
            "39/39 [==============================] - 0s 6ms/step - loss: 0.6558 - balanced_sparse_categorical_accuracy: 0.7700 - val_loss: 0.3746 - val_balanced_sparse_categorical_accuracy: 0.7275\n",
            "Epoch 58/100\n",
            "39/39 [==============================] - 1s 13ms/step - loss: 0.6403 - balanced_sparse_categorical_accuracy: 0.7706 - val_loss: 0.3744 - val_balanced_sparse_categorical_accuracy: 0.7251\n",
            "Epoch 59/100\n",
            "39/39 [==============================] - 0s 8ms/step - loss: 0.6315 - balanced_sparse_categorical_accuracy: 0.7748 - val_loss: 0.3740 - val_balanced_sparse_categorical_accuracy: 0.7228\n",
            "Epoch 60/100\n",
            "39/39 [==============================] - 1s 10ms/step - loss: 0.6266 - balanced_sparse_categorical_accuracy: 0.7820 - val_loss: 0.3654 - val_balanced_sparse_categorical_accuracy: 0.7321\n",
            "Epoch 61/100\n",
            "39/39 [==============================] - 0s 9ms/step - loss: 0.6192 - balanced_sparse_categorical_accuracy: 0.7735 - val_loss: 0.3655 - val_balanced_sparse_categorical_accuracy: 0.7321\n",
            "Epoch 62/100\n",
            "39/39 [==============================] - 0s 7ms/step - loss: 0.6211 - balanced_sparse_categorical_accuracy: 0.7710 - val_loss: 0.3603 - val_balanced_sparse_categorical_accuracy: 0.7298\n",
            "Epoch 63/100\n",
            "39/39 [==============================] - 1s 9ms/step - loss: 0.6279 - balanced_sparse_categorical_accuracy: 0.7899 - val_loss: 0.3709 - val_balanced_sparse_categorical_accuracy: 0.7204\n",
            "Epoch 64/100\n",
            "39/39 [==============================] - 1s 10ms/step - loss: 0.6231 - balanced_sparse_categorical_accuracy: 0.7935 - val_loss: 0.3667 - val_balanced_sparse_categorical_accuracy: 0.7251\n",
            "Epoch 65/100\n",
            "39/39 [==============================] - 1s 8ms/step - loss: 0.6204 - balanced_sparse_categorical_accuracy: 0.7758 - val_loss: 0.3701 - val_balanced_sparse_categorical_accuracy: 0.7204\n",
            "Epoch 66/100\n",
            "39/39 [==============================] - 1s 11ms/step - loss: 0.6202 - balanced_sparse_categorical_accuracy: 0.7912 - val_loss: 0.3701 - val_balanced_sparse_categorical_accuracy: 0.7204\n",
            "Epoch 67/100\n",
            "39/39 [==============================] - 0s 8ms/step - loss: 0.6272 - balanced_sparse_categorical_accuracy: 0.7797 - val_loss: 0.3700 - val_balanced_sparse_categorical_accuracy: 0.7204\n",
            "Epoch 68/100\n",
            "39/39 [==============================] - 0s 9ms/step - loss: 0.6144 - balanced_sparse_categorical_accuracy: 0.7838 - val_loss: 0.3646 - val_balanced_sparse_categorical_accuracy: 0.7275\n",
            "Epoch 69/100\n",
            "39/39 [==============================] - 0s 6ms/step - loss: 0.6359 - balanced_sparse_categorical_accuracy: 0.7774 - val_loss: 0.3731 - val_balanced_sparse_categorical_accuracy: 0.7204\n",
            "Epoch 70/100\n",
            "39/39 [==============================] - 1s 9ms/step - loss: 0.6053 - balanced_sparse_categorical_accuracy: 0.7882 - val_loss: 0.3681 - val_balanced_sparse_categorical_accuracy: 0.7204\n",
            "Epoch 71/100\n",
            "39/39 [==============================] - 1s 12ms/step - loss: 0.6168 - balanced_sparse_categorical_accuracy: 0.7863 - val_loss: 0.3709 - val_balanced_sparse_categorical_accuracy: 0.7204\n",
            "Epoch 72/100\n",
            "39/39 [==============================] - 1s 13ms/step - loss: 0.6034 - balanced_sparse_categorical_accuracy: 0.7861 - val_loss: 0.3695 - val_balanced_sparse_categorical_accuracy: 0.7204\n",
            "Epoch 73/100\n",
            "39/39 [==============================] - 1s 16ms/step - loss: 0.6054 - balanced_sparse_categorical_accuracy: 0.7842 - val_loss: 0.3716 - val_balanced_sparse_categorical_accuracy: 0.7182\n",
            "Epoch 74/100\n",
            "39/39 [==============================] - 1s 12ms/step - loss: 0.6221 - balanced_sparse_categorical_accuracy: 0.7842 - val_loss: 0.3701 - val_balanced_sparse_categorical_accuracy: 0.7204\n",
            "Epoch 75/100\n",
            "39/39 [==============================] - 1s 16ms/step - loss: 0.6017 - balanced_sparse_categorical_accuracy: 0.7932 - val_loss: 0.3714 - val_balanced_sparse_categorical_accuracy: 0.7182\n",
            "Epoch 76/100\n",
            "39/39 [==============================] - 0s 5ms/step - loss: 0.6098 - balanced_sparse_categorical_accuracy: 0.7878 - val_loss: 0.3720 - val_balanced_sparse_categorical_accuracy: 0.7182\n",
            "Epoch 77/100\n",
            "39/39 [==============================] - 0s 7ms/step - loss: 0.6170 - balanced_sparse_categorical_accuracy: 0.7842 - val_loss: 0.3740 - val_balanced_sparse_categorical_accuracy: 0.7182\n",
            "Epoch 78/100\n",
            "39/39 [==============================] - 0s 6ms/step - loss: 0.6136 - balanced_sparse_categorical_accuracy: 0.7734 - val_loss: 0.3756 - val_balanced_sparse_categorical_accuracy: 0.7182\n",
            "Epoch 79/100\n",
            "39/39 [==============================] - 0s 6ms/step - loss: 0.6077 - balanced_sparse_categorical_accuracy: 0.7837 - val_loss: 0.3759 - val_balanced_sparse_categorical_accuracy: 0.7182\n",
            "Epoch 80/100\n",
            "39/39 [==============================] - 0s 6ms/step - loss: 0.5934 - balanced_sparse_categorical_accuracy: 0.7888 - val_loss: 0.3741 - val_balanced_sparse_categorical_accuracy: 0.7182\n",
            "Epoch 81/100\n",
            "39/39 [==============================] - 0s 5ms/step - loss: 0.5985 - balanced_sparse_categorical_accuracy: 0.7871 - val_loss: 0.3733 - val_balanced_sparse_categorical_accuracy: 0.7182\n",
            "Epoch 82/100\n",
            "39/39 [==============================] - 0s 6ms/step - loss: 0.6000 - balanced_sparse_categorical_accuracy: 0.8038 - val_loss: 0.3739 - val_balanced_sparse_categorical_accuracy: 0.7182\n",
            "Epoch 83/100\n",
            "39/39 [==============================] - 0s 6ms/step - loss: 0.6054 - balanced_sparse_categorical_accuracy: 0.7849 - val_loss: 0.3742 - val_balanced_sparse_categorical_accuracy: 0.7182\n",
            "Epoch 84/100\n",
            "39/39 [==============================] - 0s 6ms/step - loss: 0.5963 - balanced_sparse_categorical_accuracy: 0.7793 - val_loss: 0.3735 - val_balanced_sparse_categorical_accuracy: 0.7182\n",
            "Epoch 85/100\n",
            "39/39 [==============================] - 0s 6ms/step - loss: 0.6088 - balanced_sparse_categorical_accuracy: 0.8000 - val_loss: 0.3741 - val_balanced_sparse_categorical_accuracy: 0.7182\n",
            "Epoch 86/100\n",
            "39/39 [==============================] - 0s 6ms/step - loss: 0.6067 - balanced_sparse_categorical_accuracy: 0.7943 - val_loss: 0.3746 - val_balanced_sparse_categorical_accuracy: 0.7182\n",
            "Epoch 87/100\n",
            "39/39 [==============================] - 0s 5ms/step - loss: 0.6017 - balanced_sparse_categorical_accuracy: 0.7856 - val_loss: 0.3743 - val_balanced_sparse_categorical_accuracy: 0.7182\n",
            "Epoch 88/100\n",
            "39/39 [==============================] - 0s 6ms/step - loss: 0.6135 - balanced_sparse_categorical_accuracy: 0.7839 - val_loss: 0.3745 - val_balanced_sparse_categorical_accuracy: 0.7182\n",
            "Epoch 89/100\n",
            "39/39 [==============================] - 0s 6ms/step - loss: 0.6015 - balanced_sparse_categorical_accuracy: 0.8024 - val_loss: 0.3739 - val_balanced_sparse_categorical_accuracy: 0.7182\n",
            "Epoch 90/100\n",
            "39/39 [==============================] - 0s 6ms/step - loss: 0.5966 - balanced_sparse_categorical_accuracy: 0.7842 - val_loss: 0.3744 - val_balanced_sparse_categorical_accuracy: 0.7182\n",
            "Epoch 91/100\n",
            "39/39 [==============================] - 0s 5ms/step - loss: 0.6181 - balanced_sparse_categorical_accuracy: 0.7906 - val_loss: 0.3745 - val_balanced_sparse_categorical_accuracy: 0.7182\n",
            "Epoch 92/100\n",
            "39/39 [==============================] - 0s 6ms/step - loss: 0.6152 - balanced_sparse_categorical_accuracy: 0.8022 - val_loss: 0.3746 - val_balanced_sparse_categorical_accuracy: 0.7182\n",
            "Epoch 93/100\n",
            "39/39 [==============================] - 0s 5ms/step - loss: 0.5985 - balanced_sparse_categorical_accuracy: 0.8023 - val_loss: 0.3745 - val_balanced_sparse_categorical_accuracy: 0.7182\n",
            "Epoch 94/100\n",
            "39/39 [==============================] - 0s 8ms/step - loss: 0.6018 - balanced_sparse_categorical_accuracy: 0.7867 - val_loss: 0.3744 - val_balanced_sparse_categorical_accuracy: 0.7182\n",
            "Epoch 95/100\n",
            "39/39 [==============================] - 0s 8ms/step - loss: 0.6012 - balanced_sparse_categorical_accuracy: 0.7950 - val_loss: 0.3742 - val_balanced_sparse_categorical_accuracy: 0.7182\n",
            "Epoch 96/100\n",
            "39/39 [==============================] - 0s 6ms/step - loss: 0.5854 - balanced_sparse_categorical_accuracy: 0.8031 - val_loss: 0.3740 - val_balanced_sparse_categorical_accuracy: 0.7182\n",
            "Epoch 97/100\n",
            "39/39 [==============================] - 0s 6ms/step - loss: 0.5951 - balanced_sparse_categorical_accuracy: 0.7816 - val_loss: 0.3738 - val_balanced_sparse_categorical_accuracy: 0.7182\n",
            "Epoch 98/100\n",
            "39/39 [==============================] - 0s 6ms/step - loss: 0.6026 - balanced_sparse_categorical_accuracy: 0.7923 - val_loss: 0.3737 - val_balanced_sparse_categorical_accuracy: 0.7182\n",
            "Epoch 99/100\n",
            "39/39 [==============================] - 0s 5ms/step - loss: 0.6104 - balanced_sparse_categorical_accuracy: 0.7869 - val_loss: 0.3737 - val_balanced_sparse_categorical_accuracy: 0.7182\n",
            "Epoch 100/100\n",
            "39/39 [==============================] - 0s 6ms/step - loss: 0.6036 - balanced_sparse_categorical_accuracy: 0.7893 - val_loss: 0.3737 - val_balanced_sparse_categorical_accuracy: 0.7182\n",
            "    Model training completed. Following metrics available: dict_keys(['loss', 'balanced_sparse_categorical_accuracy', 'val_loss', 'val_balanced_sparse_categorical_accuracy', 'lr'])\n",
            "Time taken to train model (in mins) = 5\n",
            "5673\n",
            "    Stopped epoch = 90\n"
          ]
        },
        {
          "output_type": "display_data",
          "data": {
            "image/png": "[encoded data removed]",
            "text/plain": [
              "<Figure size 1080x432 with 2 Axes>"
            ]
          },
          "metadata": {}
        },
        {
          "output_type": "stream",
          "name": "stdout",
          "text": [
            "Time taken to train model (in mins) = 5\n",
            "    Stopped epoch = 90\n",
            "Held out data actuals shape: (256,)\n",
            "    samples from label: [0, 0, 0, 0, 0, 0, 1, 0, 0, 0]\n",
            "\n",
            "Held out predictions shape:(256,)\n",
            "    Sample predictions: [0 0 0 0 0 0 1 0 0 0]\n",
            "\n",
            "###########################################################\n",
            "         Held-out test data set Results:\n",
            "Single Label, Multi Class Model Metrics Report: class\n",
            "#################################################################\n"
          ]
        },
        {
          "output_type": "display_data",
          "data": {
            "text/html": [
              "<style>.container { width:95% !important; }</style>"
            ],
            "text/plain": [
              "<IPython.core.display.HTML object>"
            ]
          },
          "metadata": {}
        },
        {
          "output_type": "stream",
          "name": "stdout",
          "text": [
            "    Accuracy          = 85.5%\n",
            "    Balanced Accuracy = 73.6%\n",
            "    Precision         = 31.7%\n",
            "    Average Precision = 63.8%\n",
            "    Recall            = 59.1%\n",
            "    F1 Score          = 41.3%\n",
            "    ROC AUC           = 85.0%\n",
            "#####################################################\n",
            "\n",
            "Finally, training on full train dataset. This will take time...\n",
            "    best learning rate = 6.279404e-06\n",
            "    set learning rate using best model: 6.279404e-06\n",
            "    max epochs for training = 90\n",
            "\n",
            "Model not being saved since save_model_flag set to False...\n",
            "6007\n",
            "\n",
            "Saving vocab dictionary using pickle in text/auto/model_2021_11_01-21_47_20/artifacts/cat_vocab_dict.pickle...will take time...\n",
            "    Saved pickle file in text/auto/model_2021_11_01-21_47_20/artifacts/cat_vocab_dict.pickle\n",
            "\n",
            "Saving variable definitions file using pickle in text/auto/model_2021_11_01-21_47_20/artifacts/var_df.pickle...will take time...\n",
            "    Saved pickle file in text/auto/model_2021_11_01-21_47_20/artifacts/var_df.pickle\n",
            "\n",
            "Deep_Auto_ViML completed. Total time taken = 6 (in mins)\n",
            "\n",
            "Saving model architecture after training in text/auto/model_2021_11_01-21_47_20/artifacts/model_after.png...will take time...\n",
            "Model plot saved in file: text/auto/model_2021_11_01-21_47_20/artifacts/model_after.png\n"
          ]
        },
        {
          "output_type": "display_data",
          "data": {
            "image/png": "[encoded data removed]",
            "text/plain": [
              "<IPython.core.display.Image object>"
            ]
          },
          "metadata": {
            "image/png": {
              "width": 913,
              "height": 39
            }
          }
        },
        {
          "output_type": "display_data",
          "data": {
            "image/png": "[encoded data removed]",
            "text/plain": [
              "<Figure size 1080x432 with 4 Axes>"
            ]
          },
          "metadata": {}
        }
      ]
    },
    {
      "cell_type": "markdown",
      "metadata": {
        "id": "9wG9UqrobIfM"
      },
      "source": [
        "The following steps are happening:\n",
        "* It summarizes all the options we have specified.\n",
        "* It loads the data\n",
        "* The deep autoVIML finds that there is an NLP column automatically and chooses an embedding size of 50. The original vocabulary size of the input was 409623 and its lowered down to 50 which was the inout.\n",
        "* Goes into building a model and runs for the given max_trial times.\n",
        "* The storm tuner trains the keras model - for 15 trials, hyperparameters are tuned (Dropout, optimizer, number of layers in the model etc.)\n",
        "* The best model is then picked.\n"
      ]
    },
    {
      "cell_type": "code",
      "metadata": {
        "colab": {
          "base_uri": "https://localhost:8080/"
        },
        "id": "Otp2FjKXT281",
        "outputId": "51106982-24d6-42c7-b4b6-a60c662cf428"
      },
      "source": [
        "predictions = deepauto.predict(model, project_name='text', test_dataset=test,\n",
        "                                 keras_model_type=keras_model_type, \n",
        "                                 cat_vocab_dict=dicti)"
      ],
      "execution_count": 29,
      "outputs": [
        {
          "output_type": "stream",
          "name": "stdout",
          "text": [
            "\n",
            "Loading deep_autoviml model from <tensorflow.python.keras.engine.functional.Functional object at 0x7f212abb5350> folder. This will take time...\n",
            "\n",
            "Using <tensorflow.python.keras.engine.functional.Functional object at 0x7f212abb5350> model provided as input...\n",
            "Time taken to load saved model = 0 seconds\n",
            "Loaded test data size: 6393\n",
            "Alert! Modified column names to satisfy rules for column names in Tensorflow...\n",
            "############## C L A S S I F Y I N G  V A R I A B L E S  ####################\n",
            "Classifying variables in data set...\n",
            "    3 Predictors classified...\n",
            "    possible latitude columns in dataset: []\n",
            "        after further analysis, no latitude columns found\n",
            "    possible longitude columns in dataset: []\n",
            "        after further analysis, no longitude columns found\n",
            "        1 variable(s) to be removed since they were ID or low-information variables\n",
            "Distribution of string columns in datatset:\n",
            "    number of binary = 0, cats = 0, high cats = 0, very high cats = 1\n",
            "Distribution of integer columns in datatset:\n",
            "    number of binary = 1, cats = 0, high cats = 0, very high cats = 1\n",
            "Distribution of floats:\n",
            "    number float variables = 0\n",
            "No data transformations needed in this dataset\n",
            "    we transformed ['id'] from integer to float\n",
            "tweet is detected and will be treated as an NLP variable\n",
            "    after data cleaning, number of predictors used in modeling = 2\n",
            "Not performing feature crossing for categorical nor integer variables\n",
            "    Dropping ['id'] columns from dataset...\n",
            "    test data loaded successfully.\n",
            "test data size =  6393 , batch_size =  32\n",
            "    combined NLP or text vars: ['tweet'] into a single combined_nlp_text successfully\n",
            "Boolean column successfully processed\n",
            "Batch size = 32\n",
            "    number of steps needed to predict: 200\n",
            "    Sample predictions before inverse_transform: [0 0 1 0 0]\n",
            "    Sample predictions after transform: [0 0 1 0 0]\n",
            "Returning model predictions in form of a list...of length 2\n",
            "Time taken in mins for predictions = 0\n"
          ]
        }
      ]
    },
    {
      "cell_type": "code",
      "metadata": {
        "colab": {
          "base_uri": "https://localhost:8080/"
        },
        "id": "cT8VnU9gUQZL",
        "outputId": "05ddd947-f51f-41eb-db7c-b043e4660f21"
      },
      "source": [
        "predictions[1]"
      ],
      "execution_count": 30,
      "outputs": [
        {
          "output_type": "execute_result",
          "data": {
            "text/plain": [
              "array([0, 0, 1, ..., 0, 0, 0])"
            ]
          },
          "metadata": {},
          "execution_count": 30
        }
      ]
    },
    {
      "cell_type": "code",
      "metadata": {
        "colab": {
          "base_uri": "https://localhost:8080/"
        },
        "id": "7JtXZ5ruUV8S",
        "outputId": "e9d0c971-4465-4368-acfb-0e52e19a89d5"
      },
      "source": [
        "from sklearn.metrics import classification_report, confusion_matrix, mean_absolute_error, mean_squared_error\n",
        "print(classification_report(test[target].values,predictions[1]))"
      ],
      "execution_count": 31,
      "outputs": [
        {
          "output_type": "stream",
          "name": "stdout",
          "text": [
            "              precision    recall  f1-score   support\n",
            "\n",
            "           0       0.97      0.87      0.92      5937\n",
            "           1       0.27      0.62      0.37       456\n",
            "\n",
            "    accuracy                           0.85      6393\n",
            "   macro avg       0.62      0.74      0.64      6393\n",
            "weighted avg       0.92      0.85      0.88      6393\n",
            "\n"
          ]
        }
      ]
    },
    {
      "cell_type": "markdown",
      "metadata": {
        "id": "cYemPgecc-L_"
      },
      "source": [
        "## **CONCLUSION:**\n",
        "The average accuracy achieved by the model is 85% with the Class=0 class accuracy being 92% and Class=1 being 37%"
      ]
    }
  ]
}